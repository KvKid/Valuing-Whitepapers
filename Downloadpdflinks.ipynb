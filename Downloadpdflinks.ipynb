{
 "cells": [
  {
   "cell_type": "code",
   "execution_count": 152,
   "metadata": {},
   "outputs": [],
   "source": [
    "import pandas as pd\n",
    "from ast import literal_eval\n",
    "import os\n",
    "import time\n",
    "def latest_download_file():\n",
    "      path = r'C:\\Users\\kianv\\Desktop\\Python\\crypto\\PDFS'\n",
    "      os.chdir(path)\n",
    "      files = sorted(os.listdir(os.getcwd()), key=os.path.getmtime)\n",
    "      newest = files[-1]\n",
    "\n",
    "      return r'C:\\Users\\kianv\\Desktop\\Python\\crypto\\PDFS\\ '+str(newest) + '\\\\'\n"
   ]
  },
  {
   "attachments": {},
   "cell_type": "markdown",
   "metadata": {},
   "source": [
    "Read in our data with links"
   ]
  },
  {
   "cell_type": "code",
   "execution_count": 94,
   "metadata": {},
   "outputs": [],
   "source": [
    "df = pd.read_csv('./data.csv',converters={\"Links\": literal_eval})\n",
    "del df['Unnamed: 0']"
   ]
  },
  {
   "attachments": {},
   "cell_type": "markdown",
   "metadata": {},
   "source": [
    "Download PDF from a given link"
   ]
  },
  {
   "cell_type": "code",
   "execution_count": 161,
   "metadata": {},
   "outputs": [],
   "source": [
    "from selenium import webdriver\n",
    "from selenium.webdriver.support.ui import Select\n",
    "from selenium.webdriver.common.by import By\n",
    "from selenium.webdriver.common.keys import Keys\n",
    "from selenium import webdriver\n",
    "from webdriver_manager.chrome import ChromeDriverManager\n",
    "profile = {\"plugins.plugins_list\": [{\"enabled\": False,\n",
    "                                         \"name\": \"Chrome PDF Viewer\"}],\n",
    "               \"download.default_directory\": \"C:\\\\Users\\\\kianv\\\\Desktop\\\\Python\\\\crypto\\\\PDFS\",\n",
    "               \"download.extensions_to_open\": \"\",\n",
    "               \"plugins.always_open_pdf_externally\": True}\n",
    "options = webdriver.ChromeOptions()\n",
    "options.add_experimental_option('prefs', profile)\n",
    "driver = webdriver.Chrome(options=options)\n",
    "\n",
    "#driver.get('https://polkadot.network/PolkaDotPaper.pdf')"
   ]
  },
  {
   "cell_type": "code",
   "execution_count": 162,
   "metadata": {},
   "outputs": [],
   "source": [
    "j = 0\n",
    "old_directorylen = len(list(os.listdir(r'C:\\Users\\kianv\\Desktop\\Python\\crypto\\PDFS')))\n",
    "tab_number = 0\n",
    "for elem in df['Links']:\n",
    "    for k in range(0,len(elem)):\n",
    "        driver.get(elem[k])\n",
    "        time.sleep(2)\n",
    "        new_directorylen = len(list(os.listdir(r'C:\\Users\\kianv\\Desktop\\Python\\crypto\\PDFS')))\n",
    "        \n",
    "        if new_directorylen == old_directorylen:\n",
    "            driver.execute_script(\"window.open('');\")\n",
    "            # Switch to the new window and open new URL\n",
    "            tab_number+=1\n",
    "            driver.switch_to.window(driver.window_handles[tab_number])\n",
    "        else:\n",
    "            #latest_download_file()\n",
    "            old_name = latest_download_file()\n",
    "            new_name = r'C:\\Users\\kianv\\Desktop\\Python\\crypto\\PDFS\\ '+str(df['Name'][k]) + '\\\\'\n",
    "            os.rename(old_name,new_name)\n",
    "\n",
    "        \n",
    "            "
   ]
  },
  {
   "cell_type": "code",
   "execution_count": 159,
   "metadata": {},
   "outputs": [
    {
     "data": {
      "text/plain": [
       "1"
      ]
     },
     "execution_count": 159,
     "metadata": {},
     "output_type": "execute_result"
    }
   ],
   "source": [
    "tab_number"
   ]
  },
  {
   "cell_type": "code",
   "execution_count": 158,
   "metadata": {},
   "outputs": [],
   "source": [
    "driver.switch_to.window(driver.window_handles[tab_number])"
   ]
  },
  {
   "cell_type": "code",
   "execution_count": 151,
   "metadata": {},
   "outputs": [
    {
     "ename": "NoSuchWindowException",
     "evalue": "Message: no such window: target window already closed\nfrom unknown error: web view not found\n  (Session info: chrome=109.0.5414.120)\nStacktrace:\nBacktrace:\n\t(No symbol) [0x00996643]\n\t(No symbol) [0x0092BE21]\n\t(No symbol) [0x0082DA9D]\n\t(No symbol) [0x0080EF6A]\n\t(No symbol) [0x00883AAB]\n\t(No symbol) [0x008961B6]\n\t(No symbol) [0x0087FB76]\n\t(No symbol) [0x008549C1]\n\t(No symbol) [0x00855E5D]\n\tGetHandleVerifier [0x00C0A142+2497106]\n\tGetHandleVerifier [0x00C385D3+2686691]\n\tGetHandleVerifier [0x00C3BB9C+2700460]\n\tGetHandleVerifier [0x00A43B10+635936]\n\t(No symbol) [0x00934A1F]\n\t(No symbol) [0x0093A418]\n\t(No symbol) [0x0093A505]\n\t(No symbol) [0x0094508B]\n\tBaseThreadInitThunk [0x751100F9+25]\n\tRtlGetAppContainerNamedObjectPath [0x77297BBE+286]\n\tRtlGetAppContainerNamedObjectPath [0x77297B8E+238]\n",
     "output_type": "error",
     "traceback": [
      "\u001b[1;31m---------------------------------------------------------------------------\u001b[0m",
      "\u001b[1;31mNoSuchWindowException\u001b[0m                     Traceback (most recent call last)",
      "Cell \u001b[1;32mIn[151], line 1\u001b[0m\n\u001b[1;32m----> 1\u001b[0m driver\u001b[39m.\u001b[39;49mexecute_script(\u001b[39m\"\u001b[39;49m\u001b[39mwindow.open(\u001b[39;49m\u001b[39m'\u001b[39;49m\u001b[39m'\u001b[39;49m\u001b[39m);\u001b[39;49m\u001b[39m\"\u001b[39;49m)\n\u001b[0;32m      3\u001b[0m \u001b[39m# Switch to the new window and open new URL\u001b[39;00m\n\u001b[0;32m      4\u001b[0m driver\u001b[39m.\u001b[39mswitch_to\u001b[39m.\u001b[39mwindow(driver\u001b[39m.\u001b[39mwindow_handles[\u001b[39m-\u001b[39m\u001b[39m1\u001b[39m])\n",
      "File \u001b[1;32mc:\\Users\\kianv\\Desktop\\Python\\crypto\\.venv\\Lib\\site-packages\\selenium\\webdriver\\remote\\webdriver.py:506\u001b[0m, in \u001b[0;36mWebDriver.execute_script\u001b[1;34m(self, script, *args)\u001b[0m\n\u001b[0;32m    503\u001b[0m converted_args \u001b[39m=\u001b[39m \u001b[39mlist\u001b[39m(args)\n\u001b[0;32m    504\u001b[0m command \u001b[39m=\u001b[39m Command\u001b[39m.\u001b[39mW3C_EXECUTE_SCRIPT\n\u001b[1;32m--> 506\u001b[0m \u001b[39mreturn\u001b[39;00m \u001b[39mself\u001b[39;49m\u001b[39m.\u001b[39;49mexecute(command, {\u001b[39m\"\u001b[39;49m\u001b[39mscript\u001b[39;49m\u001b[39m\"\u001b[39;49m: script, \u001b[39m\"\u001b[39;49m\u001b[39margs\u001b[39;49m\u001b[39m\"\u001b[39;49m: converted_args})[\u001b[39m\"\u001b[39m\u001b[39mvalue\u001b[39m\u001b[39m\"\u001b[39m]\n",
      "File \u001b[1;32mc:\\Users\\kianv\\Desktop\\Python\\crypto\\.venv\\Lib\\site-packages\\selenium\\webdriver\\remote\\webdriver.py:444\u001b[0m, in \u001b[0;36mWebDriver.execute\u001b[1;34m(self, driver_command, params)\u001b[0m\n\u001b[0;32m    442\u001b[0m response \u001b[39m=\u001b[39m \u001b[39mself\u001b[39m\u001b[39m.\u001b[39mcommand_executor\u001b[39m.\u001b[39mexecute(driver_command, params)\n\u001b[0;32m    443\u001b[0m \u001b[39mif\u001b[39;00m response:\n\u001b[1;32m--> 444\u001b[0m     \u001b[39mself\u001b[39;49m\u001b[39m.\u001b[39;49merror_handler\u001b[39m.\u001b[39;49mcheck_response(response)\n\u001b[0;32m    445\u001b[0m     response[\u001b[39m\"\u001b[39m\u001b[39mvalue\u001b[39m\u001b[39m\"\u001b[39m] \u001b[39m=\u001b[39m \u001b[39mself\u001b[39m\u001b[39m.\u001b[39m_unwrap_value(response\u001b[39m.\u001b[39mget(\u001b[39m\"\u001b[39m\u001b[39mvalue\u001b[39m\u001b[39m\"\u001b[39m, \u001b[39mNone\u001b[39;00m))\n\u001b[0;32m    446\u001b[0m     \u001b[39mreturn\u001b[39;00m response\n",
      "File \u001b[1;32mc:\\Users\\kianv\\Desktop\\Python\\crypto\\.venv\\Lib\\site-packages\\selenium\\webdriver\\remote\\errorhandler.py:249\u001b[0m, in \u001b[0;36mErrorHandler.check_response\u001b[1;34m(self, response)\u001b[0m\n\u001b[0;32m    247\u001b[0m         alert_text \u001b[39m=\u001b[39m value[\u001b[39m\"\u001b[39m\u001b[39malert\u001b[39m\u001b[39m\"\u001b[39m]\u001b[39m.\u001b[39mget(\u001b[39m\"\u001b[39m\u001b[39mtext\u001b[39m\u001b[39m\"\u001b[39m)\n\u001b[0;32m    248\u001b[0m     \u001b[39mraise\u001b[39;00m exception_class(message, screen, stacktrace, alert_text)  \u001b[39m# type: ignore[call-arg]  # mypy is not smart enough here\u001b[39;00m\n\u001b[1;32m--> 249\u001b[0m \u001b[39mraise\u001b[39;00m exception_class(message, screen, stacktrace)\n",
      "\u001b[1;31mNoSuchWindowException\u001b[0m: Message: no such window: target window already closed\nfrom unknown error: web view not found\n  (Session info: chrome=109.0.5414.120)\nStacktrace:\nBacktrace:\n\t(No symbol) [0x00996643]\n\t(No symbol) [0x0092BE21]\n\t(No symbol) [0x0082DA9D]\n\t(No symbol) [0x0080EF6A]\n\t(No symbol) [0x00883AAB]\n\t(No symbol) [0x008961B6]\n\t(No symbol) [0x0087FB76]\n\t(No symbol) [0x008549C1]\n\t(No symbol) [0x00855E5D]\n\tGetHandleVerifier [0x00C0A142+2497106]\n\tGetHandleVerifier [0x00C385D3+2686691]\n\tGetHandleVerifier [0x00C3BB9C+2700460]\n\tGetHandleVerifier [0x00A43B10+635936]\n\t(No symbol) [0x00934A1F]\n\t(No symbol) [0x0093A418]\n\t(No symbol) [0x0093A505]\n\t(No symbol) [0x0094508B]\n\tBaseThreadInitThunk [0x751100F9+25]\n\tRtlGetAppContainerNamedObjectPath [0x77297BBE+286]\n\tRtlGetAppContainerNamedObjectPath [0x77297B8E+238]\n"
     ]
    }
   ],
   "source": [
    "driver.execute_script(\"window.open('');\")\n",
    "  \n",
    "# Switch to the new window and open new URL\n",
    "driver.switch_to.window(driver.window_handles[1])\n",
    "driver.get(\"https://google.com\")"
   ]
  },
  {
   "cell_type": "code",
   "execution_count": 123,
   "metadata": {},
   "outputs": [],
   "source": [
    "import os"
   ]
  },
  {
   "cell_type": "code",
   "execution_count": 138,
   "metadata": {},
   "outputs": [
    {
     "data": {
      "text/plain": [
       "0                  HydraDX (HDX)\n",
       "1            Green Satoshi Token\n",
       "2                Brokoli Network\n",
       "3                          Huobi\n",
       "4      Polkadot (cryptocurrency)\n",
       "                 ...            \n",
       "70    Chainlink (cryptocurrency)\n",
       "71       Ripple (cryptocurrency)\n",
       "72                proof-of-stake\n",
       "73               KuCoin Exchange\n",
       "74           Partisia Blockchain\n",
       "Name: Name, Length: 75, dtype: object"
      ]
     },
     "execution_count": 138,
     "metadata": {},
     "output_type": "execute_result"
    }
   ],
   "source": [
    "df['Name']"
   ]
  },
  {
   "cell_type": "code",
   "execution_count": 136,
   "metadata": {},
   "outputs": [
    {
     "ename": "NameError",
     "evalue": "name 'newest' is not defined",
     "output_type": "error",
     "traceback": [
      "\u001b[1;31m---------------------------------------------------------------------------\u001b[0m",
      "\u001b[1;31mNameError\u001b[0m                                 Traceback (most recent call last)",
      "Cell \u001b[1;32mIn[136], line 11\u001b[0m\n\u001b[0;32m      9\u001b[0m latest_download_file()\n\u001b[0;32m     10\u001b[0m old_name \u001b[39m=\u001b[39m latest_download_file()\n\u001b[1;32m---> 11\u001b[0m new_name \u001b[39m=\u001b[39m \u001b[39mr\u001b[39m\u001b[39m'\u001b[39m\u001b[39mC:\u001b[39m\u001b[39m\\\u001b[39m\u001b[39mUsers\u001b[39m\u001b[39m\\\u001b[39m\u001b[39mkianv\u001b[39m\u001b[39m\\\u001b[39m\u001b[39mDesktop\u001b[39m\u001b[39m\\\u001b[39m\u001b[39mPython\u001b[39m\u001b[39m\\\u001b[39m\u001b[39mcrypto\u001b[39m\u001b[39m\\\u001b[39m\u001b[39mPDFS\u001b[39m\u001b[39m'\u001b[39m\u001b[39m+\u001b[39m\u001b[39mstr\u001b[39m(newest) \u001b[39m+\u001b[39m \u001b[39m'\u001b[39m\u001b[39m\\\\\u001b[39;00m\u001b[39m'\u001b[39m\n\u001b[0;32m     13\u001b[0m \u001b[39m#os.rename(old_name, new_name)\u001b[39;00m\n",
      "\u001b[1;31mNameError\u001b[0m: name 'newest' is not defined"
     ]
    }
   ],
   "source": [
    "def latest_download_file():\n",
    "      path = r'C:\\Users\\kianv\\Desktop\\Python\\crypto\\PDFS'\n",
    "      os.chdir(path)\n",
    "      files = sorted(os.listdir(os.getcwd()), key=os.path.getmtime)\n",
    "      newest = files[-1]\n",
    "\n",
    "      return r'C:\\Users\\kianv\\Desktop\\Python\\crypto\\PDFS\\ '+str(newest) + '\\\\'\n",
    "\n",
    "latest_download_file()\n",
    "old_name = latest_download_file()\n",
    "new_name = r'C:\\Users\\kianv\\Desktop\\Python\\crypto\\PDFS\\ '+str(df['Name'][k]) + '\\\\'\n",
    "\n",
    "#os.rename(old_name, new_name)"
   ]
  },
  {
   "cell_type": "code",
   "execution_count": 117,
   "metadata": {},
   "outputs": [
    {
     "data": {
      "text/plain": [
       "36"
      ]
     },
     "execution_count": 117,
     "metadata": {},
     "output_type": "execute_result"
    }
   ],
   "source": [
    "import os, os.path\n",
    "\n",
    "# simple version for working with CWD\n",
    "directory_length = len(list(os.listdir('./PDFS/')))\n"
   ]
  },
  {
   "cell_type": "code",
   "execution_count": 100,
   "metadata": {},
   "outputs": [
    {
     "ename": "AttributeError",
     "evalue": "'WebDriver' object has no attribute 'SwitchTo'",
     "output_type": "error",
     "traceback": [
      "\u001b[1;31m---------------------------------------------------------------------------\u001b[0m",
      "\u001b[1;31mAttributeError\u001b[0m                            Traceback (most recent call last)",
      "Cell \u001b[1;32mIn[100], line 1\u001b[0m\n\u001b[1;32m----> 1\u001b[0m driver\u001b[39m.\u001b[39;49mSwitchTo()\u001b[39m.\u001b[39mNewWindow(WindowType\u001b[39m.\u001b[39mTab)\n",
      "\u001b[1;31mAttributeError\u001b[0m: 'WebDriver' object has no attribute 'SwitchTo'"
     ]
    }
   ],
   "source": [
    "driver.SwitchTo().NewWindow(WindowType.Tab)"
   ]
  },
  {
   "cell_type": "code",
   "execution_count": 107,
   "metadata": {},
   "outputs": [],
   "source": [
    "driver.find_element(By.TAG_NAME,'body').send_keys(Keys.COMMAND + 't') "
   ]
  },
  {
   "cell_type": "code",
   "execution_count": null,
   "metadata": {},
   "outputs": [],
   "source": []
  }
 ],
 "metadata": {
  "kernelspec": {
   "display_name": ".venv",
   "language": "python",
   "name": "python3"
  },
  "language_info": {
   "codemirror_mode": {
    "name": "ipython",
    "version": 3
   },
   "file_extension": ".py",
   "mimetype": "text/x-python",
   "name": "python",
   "nbconvert_exporter": "python",
   "pygments_lexer": "ipython3",
   "version": "3.11.0 (main, Oct 24 2022, 18:26:48) [MSC v.1933 64 bit (AMD64)]"
  },
  "orig_nbformat": 4,
  "vscode": {
   "interpreter": {
    "hash": "99c37587a13f0cffeb1bd05386540198e835a0504a64595d070c372b706cf6e1"
   }
  }
 },
 "nbformat": 4,
 "nbformat_minor": 2
}
