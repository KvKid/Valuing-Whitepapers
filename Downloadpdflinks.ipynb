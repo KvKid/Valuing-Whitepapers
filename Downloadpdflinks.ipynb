{
 "cells": [
  {
   "cell_type": "code",
   "execution_count": 7,
   "metadata": {},
   "outputs": [],
   "source": [
    "import pandas as pd\n",
    "from ast import literal_eval\n",
    "import os\n",
    "import time\n",
    "def latest_download_file():\n",
    "      path = r'C:\\Users\\kianv\\Desktop\\Python\\crypto\\PDFS'\n",
    "      os.chdir(path)\n",
    "      files = sorted(os.listdir(os.getcwd()), key=os.path.getmtime)\n",
    "      newest = files[-1]\n",
    "\n",
    "      return r'C:\\Users\\kianv\\Desktop\\Python\\crypto\\PDFS\\\\'+str(newest)\n"
   ]
  },
  {
   "cell_type": "code",
   "execution_count": 8,
   "metadata": {},
   "outputs": [
    {
     "data": {
      "text/plain": [
       "'C:\\\\Users\\\\kianv\\\\Desktop\\\\Python\\\\crypto\\\\PDFS\\\\\\\\Piston (PSTN)0.pdf'"
      ]
     },
     "execution_count": 8,
     "metadata": {},
     "output_type": "execute_result"
    }
   ],
   "source": [
    "latest_download_file()\n"
   ]
  },
  {
   "attachments": {},
   "cell_type": "markdown",
   "metadata": {},
   "source": [
    "Read in our data with links"
   ]
  },
  {
   "cell_type": "code",
   "execution_count": 9,
   "metadata": {},
   "outputs": [],
   "source": [
    "df = pd.read_csv(r'C:\\Users\\kianv\\Desktop\\Python\\crypto\\data.csv',converters={\"Links\": literal_eval})\n",
    "del df['Unnamed: 0']"
   ]
  },
  {
   "attachments": {},
   "cell_type": "markdown",
   "metadata": {},
   "source": [
    "Download PDF from a given link"
   ]
  },
  {
   "cell_type": "code",
   "execution_count": 10,
   "metadata": {},
   "outputs": [],
   "source": [
    "from selenium import webdriver\n",
    "from selenium.webdriver.support.ui import Select\n",
    "from selenium.webdriver.common.by import By\n",
    "from selenium.webdriver.common.keys import Keys\n",
    "from selenium import webdriver\n",
    "from webdriver_manager.chrome import ChromeDriverManager\n",
    "profile = {\"plugins.plugins_list\": [{\"enabled\": False,\n",
    "                                         \"name\": \"Chrome PDF Viewer\"}],\n",
    "               \"download.default_directory\": \"C:\\\\Users\\\\kianv\\\\Desktop\\\\Python\\\\crypto\\\\PDFS\",\n",
    "               \"download.extensions_to_open\": \"\",\n",
    "               \"plugins.always_open_pdf_externally\": True}\n",
    "options = webdriver.ChromeOptions()\n",
    "options.add_experimental_option('prefs', profile)\n",
    "driver = webdriver.Chrome(options=options)"
   ]
  },
  {
   "cell_type": "code",
   "execution_count": 11,
   "metadata": {},
   "outputs": [
    {
     "data": {
      "text/plain": [
       "'Particl'"
      ]
     },
     "execution_count": 11,
     "metadata": {},
     "output_type": "execute_result"
    }
   ],
   "source": [
    "df['Name'][105]"
   ]
  },
  {
   "cell_type": "code",
   "execution_count": 12,
   "metadata": {},
   "outputs": [],
   "source": [
    "j = 0\n",
    "old_directorylen = len(list(os.listdir(r'C:\\Users\\kianv\\Desktop\\Python\\crypto\\PDFS')))\n",
    "tab_number = 0\n",
    "namecount = 9450\n",
    "for elem in df['Links'][namecount:len(list(df['Links']))]:\n",
    "    #if namecount%26 == 0:\n",
    "     #   driver = webdriver.Chrome(options=options)\n",
    "        #driver.switch_to.new_window('window')\n",
    "    for k in range(0,len(elem)):\n",
    "        try:\n",
    "            driver.get(elem[k])\n",
    "        except:\n",
    "            break\n",
    "        time.sleep(0.01)\n",
    "        new_directorylen = len(list(os.listdir(r'C:\\Users\\kianv\\Desktop\\Python\\crypto\\PDFS')))\n",
    "        print(df['Name'][namecount])\n",
    "        if new_directorylen == old_directorylen:\n",
    "            #driver.execute_script(\"window.open('');\")\n",
    "            # Switch to the new window and open new URL\n",
    "            #tab_number+=1\n",
    "            #driver.switch_to.window(driver.window_handles[tab_number])\n",
    "            jelly = 4\n",
    "            \n",
    "        else:\n",
    "            #latest_download_file()\n",
    "            #Keep trying until successful\n",
    "            result = None\n",
    "            maxtries = 20\n",
    "            tries = 0\n",
    "            for j in range(0,20):\n",
    "                time.sleep(0.5)\n",
    "                try:\n",
    "                    # connect\n",
    "                    old_name = latest_download_file()\n",
    "                    new_name = r'C:\\Users\\kianv\\Desktop\\Python\\crypto\\PDFS\\\\'+str(df['Name'][namecount]) +str(k) + '.pdf'\n",
    "                    os.rename(old_name,new_name)\n",
    "                    break\n",
    "                except Exception as e: \n",
    "                    print(e)\n",
    "                    pass\n",
    "            old_directorylen = new_directorylen\n",
    "\n",
    "    namecount+=1"
   ]
  },
  {
   "cell_type": "code",
   "execution_count": 15,
   "metadata": {},
   "outputs": [
    {
     "data": {
      "text/html": [
       "<div>\n",
       "<style scoped>\n",
       "    .dataframe tbody tr th:only-of-type {\n",
       "        vertical-align: middle;\n",
       "    }\n",
       "\n",
       "    .dataframe tbody tr th {\n",
       "        vertical-align: top;\n",
       "    }\n",
       "\n",
       "    .dataframe thead th {\n",
       "        text-align: right;\n",
       "    }\n",
       "</style>\n",
       "<table border=\"1\" class=\"dataframe\">\n",
       "  <thead>\n",
       "    <tr style=\"text-align: right;\">\n",
       "      <th></th>\n",
       "      <th>Name</th>\n",
       "      <th>Links</th>\n",
       "    </tr>\n",
       "  </thead>\n",
       "  <tbody>\n",
       "    <tr>\n",
       "      <th>0</th>\n",
       "      <td>HydraDX (HDX)</td>\n",
       "      <td>[https://docs.hydradx.io/]</td>\n",
       "    </tr>\n",
       "    <tr>\n",
       "      <th>1</th>\n",
       "      <td>Green Satoshi Token</td>\n",
       "      <td>[https://whitepaper.stepn.com/, https://whitep...</td>\n",
       "    </tr>\n",
       "    <tr>\n",
       "      <th>2</th>\n",
       "      <td>Brokoli Network</td>\n",
       "      <td>[https://whitepaper.brokoli.network]</td>\n",
       "    </tr>\n",
       "    <tr>\n",
       "      <th>3</th>\n",
       "      <td>Huobi</td>\n",
       "      <td>[https://www.htokens.finance/static/pdf/whitep...</td>\n",
       "    </tr>\n",
       "    <tr>\n",
       "      <th>4</th>\n",
       "      <td>Polkadot (cryptocurrency)</td>\n",
       "      <td>[https://polkadot.network/PolkaDotPaper.pdf]</td>\n",
       "    </tr>\n",
       "    <tr>\n",
       "      <th>...</th>\n",
       "      <td>...</td>\n",
       "      <td>...</td>\n",
       "    </tr>\n",
       "    <tr>\n",
       "      <th>9439</th>\n",
       "      <td>Shiba Monk</td>\n",
       "      <td>[https://emily-9.gitbook.io/shiba-monk-whitepa...</td>\n",
       "    </tr>\n",
       "    <tr>\n",
       "      <th>9440</th>\n",
       "      <td>‌\\nBitCastleWar</td>\n",
       "      <td>[https://v2.whitepaper.bitcastlewar.io/]</td>\n",
       "    </tr>\n",
       "    <tr>\n",
       "      <th>9441</th>\n",
       "      <td>RareApepeYC</td>\n",
       "      <td>[https://www.rareapepeyachtclub.com/]</td>\n",
       "    </tr>\n",
       "    <tr>\n",
       "      <th>9442</th>\n",
       "      <td>Louverture</td>\n",
       "      <td>[https://www.louverture.finance/Louverture%202...</td>\n",
       "    </tr>\n",
       "    <tr>\n",
       "      <th>9443</th>\n",
       "      <td>Piston (PSTN)</td>\n",
       "      <td>[https://piston-token.com/whitepaper]</td>\n",
       "    </tr>\n",
       "  </tbody>\n",
       "</table>\n",
       "<p>9444 rows × 2 columns</p>\n",
       "</div>"
      ],
      "text/plain": [
       "                           Name  \\\n",
       "0                 HydraDX (HDX)   \n",
       "1           Green Satoshi Token   \n",
       "2               Brokoli Network   \n",
       "3                         Huobi   \n",
       "4     Polkadot (cryptocurrency)   \n",
       "...                         ...   \n",
       "9439                 Shiba Monk   \n",
       "9440            ‌\\nBitCastleWar   \n",
       "9441                RareApepeYC   \n",
       "9442                 Louverture   \n",
       "9443              Piston (PSTN)   \n",
       "\n",
       "                                                  Links  \n",
       "0                            [https://docs.hydradx.io/]  \n",
       "1     [https://whitepaper.stepn.com/, https://whitep...  \n",
       "2                  [https://whitepaper.brokoli.network]  \n",
       "3     [https://www.htokens.finance/static/pdf/whitep...  \n",
       "4          [https://polkadot.network/PolkaDotPaper.pdf]  \n",
       "...                                                 ...  \n",
       "9439  [https://emily-9.gitbook.io/shiba-monk-whitepa...  \n",
       "9440           [https://v2.whitepaper.bitcastlewar.io/]  \n",
       "9441              [https://www.rareapepeyachtclub.com/]  \n",
       "9442  [https://www.louverture.finance/Louverture%202...  \n",
       "9443              [https://piston-token.com/whitepaper]  \n",
       "\n",
       "[9444 rows x 2 columns]"
      ]
     },
     "execution_count": 15,
     "metadata": {},
     "output_type": "execute_result"
    }
   ],
   "source": [
    "df"
   ]
  },
  {
   "cell_type": "code",
   "execution_count": 39,
   "metadata": {},
   "outputs": [],
   "source": [
    "old_name = latest_download_file()\n",
    "new_name = r'C:\\Users\\kianv\\Desktop\\Python\\crypto\\PDFS\\\\'+str(df['Name'][namecount]) +str(k) + '.pdf'\n",
    "os.rename(old_name,new_name)"
   ]
  },
  {
   "cell_type": "code",
   "execution_count": 48,
   "metadata": {},
   "outputs": [],
   "source": [
    "import numpy as np"
   ]
  },
  {
   "cell_type": "code",
   "execution_count": 49,
   "metadata": {},
   "outputs": [
    {
     "ename": "KeyError",
     "evalue": "'Names'",
     "output_type": "error",
     "traceback": [
      "\u001b[1;31m---------------------------------------------------------------------------\u001b[0m",
      "\u001b[1;31mKeyError\u001b[0m                                  Traceback (most recent call last)",
      "File \u001b[1;32mc:\\Users\\kianv\\Desktop\\Python\\crypto\\.venv\\Lib\\site-packages\\pandas\\core\\indexes\\base.py:3803\u001b[0m, in \u001b[0;36mIndex.get_loc\u001b[1;34m(self, key, method, tolerance)\u001b[0m\n\u001b[0;32m   3802\u001b[0m \u001b[39mtry\u001b[39;00m:\n\u001b[1;32m-> 3803\u001b[0m     \u001b[39mreturn\u001b[39;00m \u001b[39mself\u001b[39;49m\u001b[39m.\u001b[39;49m_engine\u001b[39m.\u001b[39;49mget_loc(casted_key)\n\u001b[0;32m   3804\u001b[0m \u001b[39mexcept\u001b[39;00m \u001b[39mKeyError\u001b[39;00m \u001b[39mas\u001b[39;00m err:\n",
      "File \u001b[1;32mc:\\Users\\kianv\\Desktop\\Python\\crypto\\.venv\\Lib\\site-packages\\pandas\\_libs\\index.pyx:138\u001b[0m, in \u001b[0;36mpandas._libs.index.IndexEngine.get_loc\u001b[1;34m()\u001b[0m\n",
      "File \u001b[1;32mc:\\Users\\kianv\\Desktop\\Python\\crypto\\.venv\\Lib\\site-packages\\pandas\\_libs\\index.pyx:165\u001b[0m, in \u001b[0;36mpandas._libs.index.IndexEngine.get_loc\u001b[1;34m()\u001b[0m\n",
      "File \u001b[1;32mpandas\\_libs\\hashtable_class_helper.pxi:5745\u001b[0m, in \u001b[0;36mpandas._libs.hashtable.PyObjectHashTable.get_item\u001b[1;34m()\u001b[0m\n",
      "File \u001b[1;32mpandas\\_libs\\hashtable_class_helper.pxi:5753\u001b[0m, in \u001b[0;36mpandas._libs.hashtable.PyObjectHashTable.get_item\u001b[1;34m()\u001b[0m\n",
      "\u001b[1;31mKeyError\u001b[0m: 'Names'",
      "\nThe above exception was the direct cause of the following exception:\n",
      "\u001b[1;31mKeyError\u001b[0m                                  Traceback (most recent call last)",
      "Cell \u001b[1;32mIn[49], line 1\u001b[0m\n\u001b[1;32m----> 1\u001b[0m np\u001b[39m.\u001b[39mwhere(\u001b[39m'\u001b[39m\u001b[39mThe_Sandbox_Whitepaper_2020\u001b[39m\u001b[39m'\u001b[39m,df[\u001b[39m'\u001b[39;49m\u001b[39mNames\u001b[39;49m\u001b[39m'\u001b[39;49m])\n",
      "File \u001b[1;32mc:\\Users\\kianv\\Desktop\\Python\\crypto\\.venv\\Lib\\site-packages\\pandas\\core\\frame.py:3805\u001b[0m, in \u001b[0;36mDataFrame.__getitem__\u001b[1;34m(self, key)\u001b[0m\n\u001b[0;32m   3803\u001b[0m \u001b[39mif\u001b[39;00m \u001b[39mself\u001b[39m\u001b[39m.\u001b[39mcolumns\u001b[39m.\u001b[39mnlevels \u001b[39m>\u001b[39m \u001b[39m1\u001b[39m:\n\u001b[0;32m   3804\u001b[0m     \u001b[39mreturn\u001b[39;00m \u001b[39mself\u001b[39m\u001b[39m.\u001b[39m_getitem_multilevel(key)\n\u001b[1;32m-> 3805\u001b[0m indexer \u001b[39m=\u001b[39m \u001b[39mself\u001b[39;49m\u001b[39m.\u001b[39;49mcolumns\u001b[39m.\u001b[39;49mget_loc(key)\n\u001b[0;32m   3806\u001b[0m \u001b[39mif\u001b[39;00m is_integer(indexer):\n\u001b[0;32m   3807\u001b[0m     indexer \u001b[39m=\u001b[39m [indexer]\n",
      "File \u001b[1;32mc:\\Users\\kianv\\Desktop\\Python\\crypto\\.venv\\Lib\\site-packages\\pandas\\core\\indexes\\base.py:3805\u001b[0m, in \u001b[0;36mIndex.get_loc\u001b[1;34m(self, key, method, tolerance)\u001b[0m\n\u001b[0;32m   3803\u001b[0m     \u001b[39mreturn\u001b[39;00m \u001b[39mself\u001b[39m\u001b[39m.\u001b[39m_engine\u001b[39m.\u001b[39mget_loc(casted_key)\n\u001b[0;32m   3804\u001b[0m \u001b[39mexcept\u001b[39;00m \u001b[39mKeyError\u001b[39;00m \u001b[39mas\u001b[39;00m err:\n\u001b[1;32m-> 3805\u001b[0m     \u001b[39mraise\u001b[39;00m \u001b[39mKeyError\u001b[39;00m(key) \u001b[39mfrom\u001b[39;00m \u001b[39merr\u001b[39;00m\n\u001b[0;32m   3806\u001b[0m \u001b[39mexcept\u001b[39;00m \u001b[39mTypeError\u001b[39;00m:\n\u001b[0;32m   3807\u001b[0m     \u001b[39m# If we have a listlike key, _check_indexing_error will raise\u001b[39;00m\n\u001b[0;32m   3808\u001b[0m     \u001b[39m#  InvalidIndexError. Otherwise we fall through and re-raise\u001b[39;00m\n\u001b[0;32m   3809\u001b[0m     \u001b[39m#  the TypeError.\u001b[39;00m\n\u001b[0;32m   3810\u001b[0m     \u001b[39mself\u001b[39m\u001b[39m.\u001b[39m_check_indexing_error(key)\n",
      "\u001b[1;31mKeyError\u001b[0m: 'Names'"
     ]
    }
   ],
   "source": [
    "np.where('The_Sandbox_Whitepaper_2020',data[''])"
   ]
  },
  {
   "cell_type": "code",
   "execution_count": null,
   "metadata": {},
   "outputs": [],
   "source": [
    "np.as list(df['Name'])"
   ]
  },
  {
   "cell_type": "code",
   "execution_count": 1,
   "metadata": {},
   "outputs": [
    {
     "ename": "KeyboardInterrupt",
     "evalue": "",
     "output_type": "error",
     "traceback": [
      "\u001b[1;31m---------------------------------------------------------------------------\u001b[0m",
      "\u001b[1;31mKeyboardInterrupt\u001b[0m                         Traceback (most recent call last)",
      "Cell \u001b[1;32mIn[1], line 2\u001b[0m\n\u001b[0;32m      1\u001b[0m \u001b[39mimport\u001b[39;00m \u001b[39mshutil\u001b[39;00m\n\u001b[1;32m----> 2\u001b[0m shutil\u001b[39m.\u001b[39;49mmake_archive(\u001b[39m'\u001b[39;49m\u001b[39mpdfs\u001b[39;49m\u001b[39m'\u001b[39;49m, \u001b[39m'\u001b[39;49m\u001b[39mzip\u001b[39;49m\u001b[39m'\u001b[39;49m,\u001b[39mr\u001b[39;49m\u001b[39m'\u001b[39;49m\u001b[39mC:\u001b[39;49m\u001b[39m\\\u001b[39;49m\u001b[39mUsers\u001b[39;49m\u001b[39m\\\u001b[39;49m\u001b[39mkianv\u001b[39;49m\u001b[39m\\\u001b[39;49m\u001b[39mDesktop\u001b[39;49m\u001b[39m\\\u001b[39;49m\u001b[39mPython\u001b[39;49m\u001b[39m\\\u001b[39;49m\u001b[39mcrypto\u001b[39;49m\u001b[39m\\\u001b[39;49m\u001b[39mPDFS\u001b[39;49m\u001b[39m'\u001b[39;49m)\n",
      "File \u001b[1;32mC:\\Python311\\Lib\\shutil.py:1132\u001b[0m, in \u001b[0;36mmake_archive\u001b[1;34m(base_name, format, root_dir, base_dir, verbose, dry_run, owner, group, logger)\u001b[0m\n\u001b[0;32m   1129\u001b[0m             os\u001b[39m.\u001b[39mchdir(root_dir)\n\u001b[0;32m   1131\u001b[0m \u001b[39mtry\u001b[39;00m:\n\u001b[1;32m-> 1132\u001b[0m     filename \u001b[39m=\u001b[39m func(base_name, base_dir, \u001b[39m*\u001b[39;49m\u001b[39m*\u001b[39;49mkwargs)\n\u001b[0;32m   1133\u001b[0m \u001b[39mfinally\u001b[39;00m:\n\u001b[0;32m   1134\u001b[0m     \u001b[39mif\u001b[39;00m save_cwd \u001b[39mis\u001b[39;00m \u001b[39mnot\u001b[39;00m \u001b[39mNone\u001b[39;00m:\n",
      "File \u001b[1;32mC:\\Python311\\Lib\\shutil.py:1017\u001b[0m, in \u001b[0;36m_make_zipfile\u001b[1;34m(base_name, base_dir, verbose, dry_run, logger, owner, group, root_dir)\u001b[0m\n\u001b[0;32m   1015\u001b[0m \u001b[39mif\u001b[39;00m os\u001b[39m.\u001b[39mpath\u001b[39m.\u001b[39misfile(path):\n\u001b[0;32m   1016\u001b[0m     arcname \u001b[39m=\u001b[39m os\u001b[39m.\u001b[39mpath\u001b[39m.\u001b[39mjoin(arcdirpath, name)\n\u001b[1;32m-> 1017\u001b[0m     zf\u001b[39m.\u001b[39;49mwrite(path, arcname)\n\u001b[0;32m   1018\u001b[0m     \u001b[39mif\u001b[39;00m logger \u001b[39mis\u001b[39;00m \u001b[39mnot\u001b[39;00m \u001b[39mNone\u001b[39;00m:\n\u001b[0;32m   1019\u001b[0m         logger\u001b[39m.\u001b[39minfo(\u001b[39m\"\u001b[39m\u001b[39madding \u001b[39m\u001b[39m'\u001b[39m\u001b[39m%s\u001b[39;00m\u001b[39m'\u001b[39m\u001b[39m\"\u001b[39m, path)\n",
      "File \u001b[1;32mC:\\Python311\\Lib\\zipfile.py:1790\u001b[0m, in \u001b[0;36mZipFile.write\u001b[1;34m(self, filename, arcname, compress_type, compresslevel)\u001b[0m\n\u001b[0;32m   1787\u001b[0m     zinfo\u001b[39m.\u001b[39m_compresslevel \u001b[39m=\u001b[39m \u001b[39mself\u001b[39m\u001b[39m.\u001b[39mcompresslevel\n\u001b[0;32m   1789\u001b[0m \u001b[39mwith\u001b[39;00m \u001b[39mopen\u001b[39m(filename, \u001b[39m\"\u001b[39m\u001b[39mrb\u001b[39m\u001b[39m\"\u001b[39m) \u001b[39mas\u001b[39;00m src, \u001b[39mself\u001b[39m\u001b[39m.\u001b[39mopen(zinfo, \u001b[39m'\u001b[39m\u001b[39mw\u001b[39m\u001b[39m'\u001b[39m) \u001b[39mas\u001b[39;00m dest:\n\u001b[1;32m-> 1790\u001b[0m     shutil\u001b[39m.\u001b[39;49mcopyfileobj(src, dest, \u001b[39m1024\u001b[39;49m\u001b[39m*\u001b[39;49m\u001b[39m8\u001b[39;49m)\n",
      "File \u001b[1;32mC:\\Python311\\Lib\\shutil.py:200\u001b[0m, in \u001b[0;36mcopyfileobj\u001b[1;34m(fsrc, fdst, length)\u001b[0m\n\u001b[0;32m    198\u001b[0m \u001b[39mif\u001b[39;00m \u001b[39mnot\u001b[39;00m buf:\n\u001b[0;32m    199\u001b[0m     \u001b[39mbreak\u001b[39;00m\n\u001b[1;32m--> 200\u001b[0m fdst_write(buf)\n",
      "File \u001b[1;32mC:\\Python311\\Lib\\zipfile.py:1163\u001b[0m, in \u001b[0;36m_ZipWriteFile.write\u001b[1;34m(self, data)\u001b[0m\n\u001b[0;32m   1161\u001b[0m \u001b[39mself\u001b[39m\u001b[39m.\u001b[39m_crc \u001b[39m=\u001b[39m crc32(data, \u001b[39mself\u001b[39m\u001b[39m.\u001b[39m_crc)\n\u001b[0;32m   1162\u001b[0m \u001b[39mif\u001b[39;00m \u001b[39mself\u001b[39m\u001b[39m.\u001b[39m_compressor:\n\u001b[1;32m-> 1163\u001b[0m     data \u001b[39m=\u001b[39m \u001b[39mself\u001b[39;49m\u001b[39m.\u001b[39;49m_compressor\u001b[39m.\u001b[39;49mcompress(data)\n\u001b[0;32m   1164\u001b[0m     \u001b[39mself\u001b[39m\u001b[39m.\u001b[39m_compress_size \u001b[39m+\u001b[39m\u001b[39m=\u001b[39m \u001b[39mlen\u001b[39m(data)\n\u001b[0;32m   1165\u001b[0m \u001b[39mself\u001b[39m\u001b[39m.\u001b[39m_fileobj\u001b[39m.\u001b[39mwrite(data)\n",
      "\u001b[1;31mKeyboardInterrupt\u001b[0m: "
     ]
    }
   ],
   "source": [
    "import shutil\n",
    "shutil.make_archive('pdfs', 'zip',r'C:\\Users\\kianv\\Desktop\\Python\\crypto\\PDFS')"
   ]
  },
  {
   "cell_type": "code",
   "execution_count": 15,
   "metadata": {},
   "outputs": [
    {
     "data": {
      "text/html": [
       "<div>\n",
       "<style scoped>\n",
       "    .dataframe tbody tr th:only-of-type {\n",
       "        vertical-align: middle;\n",
       "    }\n",
       "\n",
       "    .dataframe tbody tr th {\n",
       "        vertical-align: top;\n",
       "    }\n",
       "\n",
       "    .dataframe thead th {\n",
       "        text-align: right;\n",
       "    }\n",
       "</style>\n",
       "<table border=\"1\" class=\"dataframe\">\n",
       "  <thead>\n",
       "    <tr style=\"text-align: right;\">\n",
       "      <th></th>\n",
       "      <th>Name</th>\n",
       "      <th>Links</th>\n",
       "    </tr>\n",
       "  </thead>\n",
       "  <tbody>\n",
       "    <tr>\n",
       "      <th>0</th>\n",
       "      <td>HydraDX (HDX)</td>\n",
       "      <td>[https://docs.hydradx.io/]</td>\n",
       "    </tr>\n",
       "    <tr>\n",
       "      <th>1</th>\n",
       "      <td>Green Satoshi Token</td>\n",
       "      <td>[https://whitepaper.stepn.com/, https://whitep...</td>\n",
       "    </tr>\n",
       "    <tr>\n",
       "      <th>2</th>\n",
       "      <td>Brokoli Network</td>\n",
       "      <td>[https://whitepaper.brokoli.network]</td>\n",
       "    </tr>\n",
       "    <tr>\n",
       "      <th>3</th>\n",
       "      <td>Huobi</td>\n",
       "      <td>[https://www.htokens.finance/static/pdf/whitep...</td>\n",
       "    </tr>\n",
       "    <tr>\n",
       "      <th>4</th>\n",
       "      <td>Polkadot (cryptocurrency)</td>\n",
       "      <td>[https://polkadot.network/PolkaDotPaper.pdf]</td>\n",
       "    </tr>\n",
       "    <tr>\n",
       "      <th>5</th>\n",
       "      <td>Changpeng Zhao</td>\n",
       "      <td>[https://whitepaper.io/document/10/binance-whi...</td>\n",
       "    </tr>\n",
       "    <tr>\n",
       "      <th>6</th>\n",
       "      <td>Ethereum</td>\n",
       "      <td>[https://ethereum.org/en/whitepaper/]</td>\n",
       "    </tr>\n",
       "    <tr>\n",
       "      <th>7</th>\n",
       "      <td>Axelar</td>\n",
       "      <td>[https://axelar.network/wp-content/uploads/202...</td>\n",
       "    </tr>\n",
       "    <tr>\n",
       "      <th>8</th>\n",
       "      <td>VeChain</td>\n",
       "      <td>[https://www.vechain.org/whitepaper/#bit_65sv8...</td>\n",
       "    </tr>\n",
       "    <tr>\n",
       "      <th>9</th>\n",
       "      <td>Kava</td>\n",
       "      <td>[https://whitepaper.io/coin/kava-io, https://d...</td>\n",
       "    </tr>\n",
       "  </tbody>\n",
       "</table>\n",
       "</div>"
      ],
      "text/plain": [
       "                        Name  \\\n",
       "0              HydraDX (HDX)   \n",
       "1        Green Satoshi Token   \n",
       "2            Brokoli Network   \n",
       "3                      Huobi   \n",
       "4  Polkadot (cryptocurrency)   \n",
       "5             Changpeng Zhao   \n",
       "6                   Ethereum   \n",
       "7                     Axelar   \n",
       "8                    VeChain   \n",
       "9                       Kava   \n",
       "\n",
       "                                               Links  \n",
       "0                         [https://docs.hydradx.io/]  \n",
       "1  [https://whitepaper.stepn.com/, https://whitep...  \n",
       "2               [https://whitepaper.brokoli.network]  \n",
       "3  [https://www.htokens.finance/static/pdf/whitep...  \n",
       "4       [https://polkadot.network/PolkaDotPaper.pdf]  \n",
       "5  [https://whitepaper.io/document/10/binance-whi...  \n",
       "6              [https://ethereum.org/en/whitepaper/]  \n",
       "7  [https://axelar.network/wp-content/uploads/202...  \n",
       "8  [https://www.vechain.org/whitepaper/#bit_65sv8...  \n",
       "9  [https://whitepaper.io/coin/kava-io, https://d...  "
      ]
     },
     "execution_count": 15,
     "metadata": {},
     "output_type": "execute_result"
    }
   ],
   "source": [
    "df.head(10)"
   ]
  },
  {
   "cell_type": "code",
   "execution_count": 158,
   "metadata": {},
   "outputs": [],
   "source": [
    "driver.switch_to.window(driver.window_handles[tab_number])"
   ]
  },
  {
   "cell_type": "code",
   "execution_count": 151,
   "metadata": {},
   "outputs": [
    {
     "ename": "NoSuchWindowException",
     "evalue": "Message: no such window: target window already closed\nfrom unknown error: web view not found\n  (Session info: chrome=109.0.5414.120)\nStacktrace:\nBacktrace:\n\t(No symbol) [0x00996643]\n\t(No symbol) [0x0092BE21]\n\t(No symbol) [0x0082DA9D]\n\t(No symbol) [0x0080EF6A]\n\t(No symbol) [0x00883AAB]\n\t(No symbol) [0x008961B6]\n\t(No symbol) [0x0087FB76]\n\t(No symbol) [0x008549C1]\n\t(No symbol) [0x00855E5D]\n\tGetHandleVerifier [0x00C0A142+2497106]\n\tGetHandleVerifier [0x00C385D3+2686691]\n\tGetHandleVerifier [0x00C3BB9C+2700460]\n\tGetHandleVerifier [0x00A43B10+635936]\n\t(No symbol) [0x00934A1F]\n\t(No symbol) [0x0093A418]\n\t(No symbol) [0x0093A505]\n\t(No symbol) [0x0094508B]\n\tBaseThreadInitThunk [0x751100F9+25]\n\tRtlGetAppContainerNamedObjectPath [0x77297BBE+286]\n\tRtlGetAppContainerNamedObjectPath [0x77297B8E+238]\n",
     "output_type": "error",
     "traceback": [
      "\u001b[1;31m---------------------------------------------------------------------------\u001b[0m",
      "\u001b[1;31mNoSuchWindowException\u001b[0m                     Traceback (most recent call last)",
      "Cell \u001b[1;32mIn[151], line 1\u001b[0m\n\u001b[1;32m----> 1\u001b[0m driver\u001b[39m.\u001b[39;49mexecute_script(\u001b[39m\"\u001b[39;49m\u001b[39mwindow.open(\u001b[39;49m\u001b[39m'\u001b[39;49m\u001b[39m'\u001b[39;49m\u001b[39m);\u001b[39;49m\u001b[39m\"\u001b[39;49m)\n\u001b[0;32m      3\u001b[0m \u001b[39m# Switch to the new window and open new URL\u001b[39;00m\n\u001b[0;32m      4\u001b[0m driver\u001b[39m.\u001b[39mswitch_to\u001b[39m.\u001b[39mwindow(driver\u001b[39m.\u001b[39mwindow_handles[\u001b[39m-\u001b[39m\u001b[39m1\u001b[39m])\n",
      "File \u001b[1;32mc:\\Users\\kianv\\Desktop\\Python\\crypto\\.venv\\Lib\\site-packages\\selenium\\webdriver\\remote\\webdriver.py:506\u001b[0m, in \u001b[0;36mWebDriver.execute_script\u001b[1;34m(self, script, *args)\u001b[0m\n\u001b[0;32m    503\u001b[0m converted_args \u001b[39m=\u001b[39m \u001b[39mlist\u001b[39m(args)\n\u001b[0;32m    504\u001b[0m command \u001b[39m=\u001b[39m Command\u001b[39m.\u001b[39mW3C_EXECUTE_SCRIPT\n\u001b[1;32m--> 506\u001b[0m \u001b[39mreturn\u001b[39;00m \u001b[39mself\u001b[39;49m\u001b[39m.\u001b[39;49mexecute(command, {\u001b[39m\"\u001b[39;49m\u001b[39mscript\u001b[39;49m\u001b[39m\"\u001b[39;49m: script, \u001b[39m\"\u001b[39;49m\u001b[39margs\u001b[39;49m\u001b[39m\"\u001b[39;49m: converted_args})[\u001b[39m\"\u001b[39m\u001b[39mvalue\u001b[39m\u001b[39m\"\u001b[39m]\n",
      "File \u001b[1;32mc:\\Users\\kianv\\Desktop\\Python\\crypto\\.venv\\Lib\\site-packages\\selenium\\webdriver\\remote\\webdriver.py:444\u001b[0m, in \u001b[0;36mWebDriver.execute\u001b[1;34m(self, driver_command, params)\u001b[0m\n\u001b[0;32m    442\u001b[0m response \u001b[39m=\u001b[39m \u001b[39mself\u001b[39m\u001b[39m.\u001b[39mcommand_executor\u001b[39m.\u001b[39mexecute(driver_command, params)\n\u001b[0;32m    443\u001b[0m \u001b[39mif\u001b[39;00m response:\n\u001b[1;32m--> 444\u001b[0m     \u001b[39mself\u001b[39;49m\u001b[39m.\u001b[39;49merror_handler\u001b[39m.\u001b[39;49mcheck_response(response)\n\u001b[0;32m    445\u001b[0m     response[\u001b[39m\"\u001b[39m\u001b[39mvalue\u001b[39m\u001b[39m\"\u001b[39m] \u001b[39m=\u001b[39m \u001b[39mself\u001b[39m\u001b[39m.\u001b[39m_unwrap_value(response\u001b[39m.\u001b[39mget(\u001b[39m\"\u001b[39m\u001b[39mvalue\u001b[39m\u001b[39m\"\u001b[39m, \u001b[39mNone\u001b[39;00m))\n\u001b[0;32m    446\u001b[0m     \u001b[39mreturn\u001b[39;00m response\n",
      "File \u001b[1;32mc:\\Users\\kianv\\Desktop\\Python\\crypto\\.venv\\Lib\\site-packages\\selenium\\webdriver\\remote\\errorhandler.py:249\u001b[0m, in \u001b[0;36mErrorHandler.check_response\u001b[1;34m(self, response)\u001b[0m\n\u001b[0;32m    247\u001b[0m         alert_text \u001b[39m=\u001b[39m value[\u001b[39m\"\u001b[39m\u001b[39malert\u001b[39m\u001b[39m\"\u001b[39m]\u001b[39m.\u001b[39mget(\u001b[39m\"\u001b[39m\u001b[39mtext\u001b[39m\u001b[39m\"\u001b[39m)\n\u001b[0;32m    248\u001b[0m     \u001b[39mraise\u001b[39;00m exception_class(message, screen, stacktrace, alert_text)  \u001b[39m# type: ignore[call-arg]  # mypy is not smart enough here\u001b[39;00m\n\u001b[1;32m--> 249\u001b[0m \u001b[39mraise\u001b[39;00m exception_class(message, screen, stacktrace)\n",
      "\u001b[1;31mNoSuchWindowException\u001b[0m: Message: no such window: target window already closed\nfrom unknown error: web view not found\n  (Session info: chrome=109.0.5414.120)\nStacktrace:\nBacktrace:\n\t(No symbol) [0x00996643]\n\t(No symbol) [0x0092BE21]\n\t(No symbol) [0x0082DA9D]\n\t(No symbol) [0x0080EF6A]\n\t(No symbol) [0x00883AAB]\n\t(No symbol) [0x008961B6]\n\t(No symbol) [0x0087FB76]\n\t(No symbol) [0x008549C1]\n\t(No symbol) [0x00855E5D]\n\tGetHandleVerifier [0x00C0A142+2497106]\n\tGetHandleVerifier [0x00C385D3+2686691]\n\tGetHandleVerifier [0x00C3BB9C+2700460]\n\tGetHandleVerifier [0x00A43B10+635936]\n\t(No symbol) [0x00934A1F]\n\t(No symbol) [0x0093A418]\n\t(No symbol) [0x0093A505]\n\t(No symbol) [0x0094508B]\n\tBaseThreadInitThunk [0x751100F9+25]\n\tRtlGetAppContainerNamedObjectPath [0x77297BBE+286]\n\tRtlGetAppContainerNamedObjectPath [0x77297B8E+238]\n"
     ]
    }
   ],
   "source": [
    "driver.execute_script(\"window.open('');\")\n",
    "  \n",
    "# Switch to the new window and open new URL\n",
    "driver.switch_to.window(driver.window_handles[1])\n",
    "driver.get(\"https://google.com\")"
   ]
  },
  {
   "cell_type": "code",
   "execution_count": 123,
   "metadata": {},
   "outputs": [],
   "source": [
    "import os"
   ]
  },
  {
   "cell_type": "code",
   "execution_count": 138,
   "metadata": {},
   "outputs": [
    {
     "data": {
      "text/plain": [
       "0                  HydraDX (HDX)\n",
       "1            Green Satoshi Token\n",
       "2                Brokoli Network\n",
       "3                          Huobi\n",
       "4      Polkadot (cryptocurrency)\n",
       "                 ...            \n",
       "70    Chainlink (cryptocurrency)\n",
       "71       Ripple (cryptocurrency)\n",
       "72                proof-of-stake\n",
       "73               KuCoin Exchange\n",
       "74           Partisia Blockchain\n",
       "Name: Name, Length: 75, dtype: object"
      ]
     },
     "execution_count": 138,
     "metadata": {},
     "output_type": "execute_result"
    }
   ],
   "source": [
    "df['Name']"
   ]
  },
  {
   "cell_type": "code",
   "execution_count": 136,
   "metadata": {},
   "outputs": [
    {
     "ename": "NameError",
     "evalue": "name 'newest' is not defined",
     "output_type": "error",
     "traceback": [
      "\u001b[1;31m---------------------------------------------------------------------------\u001b[0m",
      "\u001b[1;31mNameError\u001b[0m                                 Traceback (most recent call last)",
      "Cell \u001b[1;32mIn[136], line 11\u001b[0m\n\u001b[0;32m      9\u001b[0m latest_download_file()\n\u001b[0;32m     10\u001b[0m old_name \u001b[39m=\u001b[39m latest_download_file()\n\u001b[1;32m---> 11\u001b[0m new_name \u001b[39m=\u001b[39m \u001b[39mr\u001b[39m\u001b[39m'\u001b[39m\u001b[39mC:\u001b[39m\u001b[39m\\\u001b[39m\u001b[39mUsers\u001b[39m\u001b[39m\\\u001b[39m\u001b[39mkianv\u001b[39m\u001b[39m\\\u001b[39m\u001b[39mDesktop\u001b[39m\u001b[39m\\\u001b[39m\u001b[39mPython\u001b[39m\u001b[39m\\\u001b[39m\u001b[39mcrypto\u001b[39m\u001b[39m\\\u001b[39m\u001b[39mPDFS\u001b[39m\u001b[39m'\u001b[39m\u001b[39m+\u001b[39m\u001b[39mstr\u001b[39m(newest) \u001b[39m+\u001b[39m \u001b[39m'\u001b[39m\u001b[39m\\\\\u001b[39;00m\u001b[39m'\u001b[39m\n\u001b[0;32m     13\u001b[0m \u001b[39m#os.rename(old_name, new_name)\u001b[39;00m\n",
      "\u001b[1;31mNameError\u001b[0m: name 'newest' is not defined"
     ]
    }
   ],
   "source": [
    "def latest_download_file():\n",
    "      path = r'C:\\Users\\kianv\\Desktop\\Python\\crypto\\PDFS'\n",
    "      os.chdir(path)\n",
    "      files = sorted(os.listdir(os.getcwd()), key=os.path.getmtime)\n",
    "      newest = files[-1]\n",
    "\n",
    "      return r'C:\\Users\\kianv\\Desktop\\Python\\crypto\\PDFS\\ '+str(newest) + '\\\\'\n",
    "\n",
    "latest_download_file()\n",
    "old_name = latest_download_file()\n",
    "new_name = r'C:\\Users\\kianv\\Desktop\\Python\\crypto\\PDFS\\ '+str(df['Name'][k]) + '\\\\'\n",
    "\n",
    "#os.rename(old_name, new_name)"
   ]
  },
  {
   "cell_type": "code",
   "execution_count": 117,
   "metadata": {},
   "outputs": [
    {
     "data": {
      "text/plain": [
       "36"
      ]
     },
     "execution_count": 117,
     "metadata": {},
     "output_type": "execute_result"
    }
   ],
   "source": [
    "import os, os.path\n",
    "\n",
    "# simple version for working with CWD\n",
    "directory_length = len(list(os.listdir('./PDFS/')))\n"
   ]
  },
  {
   "cell_type": "code",
   "execution_count": 100,
   "metadata": {},
   "outputs": [
    {
     "ename": "AttributeError",
     "evalue": "'WebDriver' object has no attribute 'SwitchTo'",
     "output_type": "error",
     "traceback": [
      "\u001b[1;31m---------------------------------------------------------------------------\u001b[0m",
      "\u001b[1;31mAttributeError\u001b[0m                            Traceback (most recent call last)",
      "Cell \u001b[1;32mIn[100], line 1\u001b[0m\n\u001b[1;32m----> 1\u001b[0m driver\u001b[39m.\u001b[39;49mSwitchTo()\u001b[39m.\u001b[39mNewWindow(WindowType\u001b[39m.\u001b[39mTab)\n",
      "\u001b[1;31mAttributeError\u001b[0m: 'WebDriver' object has no attribute 'SwitchTo'"
     ]
    }
   ],
   "source": [
    "driver.SwitchTo().NewWindow(WindowType.Tab)"
   ]
  },
  {
   "cell_type": "code",
   "execution_count": 107,
   "metadata": {},
   "outputs": [],
   "source": [
    "driver.find_element(By.TAG_NAME,'body').send_keys(Keys.COMMAND + 't') "
   ]
  },
  {
   "cell_type": "code",
   "execution_count": null,
   "metadata": {},
   "outputs": [],
   "source": []
  }
 ],
 "metadata": {
  "kernelspec": {
   "display_name": ".venv",
   "language": "python",
   "name": "python3"
  },
  "language_info": {
   "codemirror_mode": {
    "name": "ipython",
    "version": 3
   },
   "file_extension": ".py",
   "mimetype": "text/x-python",
   "name": "python",
   "nbconvert_exporter": "python",
   "pygments_lexer": "ipython3",
   "version": "3.11.0 (main, Oct 24 2022, 18:26:48) [MSC v.1933 64 bit (AMD64)]"
  },
  "orig_nbformat": 4,
  "vscode": {
   "interpreter": {
    "hash": "99c37587a13f0cffeb1bd05386540198e835a0504a64595d070c372b706cf6e1"
   }
  }
 },
 "nbformat": 4,
 "nbformat_minor": 2
}
