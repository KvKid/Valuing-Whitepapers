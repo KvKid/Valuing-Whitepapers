{
 "cells": [
  {
   "cell_type": "code",
   "execution_count": 82,
   "metadata": {},
   "outputs": [],
   "source": [
    "import pandas as pd\n",
    "from ast import literal_eval\n",
    "import os\n",
    "import time\n",
    "def latest_download_file():\n",
    "      path = r'C:\\Users\\kianv\\Desktop\\Python\\crypto\\PDFS'\n",
    "      os.chdir(path)\n",
    "      files = sorted(os.listdir(os.getcwd()), key=os.path.getmtime)\n",
    "      newest = files[-1]\n",
    "\n",
    "      return r'C:\\Users\\kianv\\Desktop\\Python\\crypto\\PDFS\\\\'+str(newest)\n"
   ]
  },
  {
   "attachments": {},
   "cell_type": "markdown",
   "metadata": {},
   "source": [
    "Read in our data with links"
   ]
  },
  {
   "cell_type": "code",
   "execution_count": 83,
   "metadata": {},
   "outputs": [
    {
     "ename": "FileNotFoundError",
     "evalue": "[Errno 2] No such file or directory: './data.csv'",
     "output_type": "error",
     "traceback": [
      "\u001b[1;31m---------------------------------------------------------------------------\u001b[0m",
      "\u001b[1;31mFileNotFoundError\u001b[0m                         Traceback (most recent call last)",
      "Cell \u001b[1;32mIn[83], line 1\u001b[0m\n\u001b[1;32m----> 1\u001b[0m df \u001b[39m=\u001b[39m pd\u001b[39m.\u001b[39;49mread_csv(\u001b[39m'\u001b[39;49m\u001b[39m./data.csv\u001b[39;49m\u001b[39m'\u001b[39;49m,converters\u001b[39m=\u001b[39;49m{\u001b[39m\"\u001b[39;49m\u001b[39mLinks\u001b[39;49m\u001b[39m\"\u001b[39;49m: literal_eval})\n\u001b[0;32m      2\u001b[0m \u001b[39mdel\u001b[39;00m df[\u001b[39m'\u001b[39m\u001b[39mUnnamed: 0\u001b[39m\u001b[39m'\u001b[39m]\n",
      "File \u001b[1;32mc:\\Users\\kianv\\Desktop\\Python\\crypto\\.venv\\Lib\\site-packages\\pandas\\util\\_decorators.py:211\u001b[0m, in \u001b[0;36mdeprecate_kwarg.<locals>._deprecate_kwarg.<locals>.wrapper\u001b[1;34m(*args, **kwargs)\u001b[0m\n\u001b[0;32m    209\u001b[0m     \u001b[39melse\u001b[39;00m:\n\u001b[0;32m    210\u001b[0m         kwargs[new_arg_name] \u001b[39m=\u001b[39m new_arg_value\n\u001b[1;32m--> 211\u001b[0m \u001b[39mreturn\u001b[39;00m func(\u001b[39m*\u001b[39;49margs, \u001b[39m*\u001b[39;49m\u001b[39m*\u001b[39;49mkwargs)\n",
      "File \u001b[1;32mc:\\Users\\kianv\\Desktop\\Python\\crypto\\.venv\\Lib\\site-packages\\pandas\\util\\_decorators.py:331\u001b[0m, in \u001b[0;36mdeprecate_nonkeyword_arguments.<locals>.decorate.<locals>.wrapper\u001b[1;34m(*args, **kwargs)\u001b[0m\n\u001b[0;32m    325\u001b[0m \u001b[39mif\u001b[39;00m \u001b[39mlen\u001b[39m(args) \u001b[39m>\u001b[39m num_allow_args:\n\u001b[0;32m    326\u001b[0m     warnings\u001b[39m.\u001b[39mwarn(\n\u001b[0;32m    327\u001b[0m         msg\u001b[39m.\u001b[39mformat(arguments\u001b[39m=\u001b[39m_format_argument_list(allow_args)),\n\u001b[0;32m    328\u001b[0m         \u001b[39mFutureWarning\u001b[39;00m,\n\u001b[0;32m    329\u001b[0m         stacklevel\u001b[39m=\u001b[39mfind_stack_level(),\n\u001b[0;32m    330\u001b[0m     )\n\u001b[1;32m--> 331\u001b[0m \u001b[39mreturn\u001b[39;00m func(\u001b[39m*\u001b[39;49margs, \u001b[39m*\u001b[39;49m\u001b[39m*\u001b[39;49mkwargs)\n",
      "File \u001b[1;32mc:\\Users\\kianv\\Desktop\\Python\\crypto\\.venv\\Lib\\site-packages\\pandas\\io\\parsers\\readers.py:950\u001b[0m, in \u001b[0;36mread_csv\u001b[1;34m(filepath_or_buffer, sep, delimiter, header, names, index_col, usecols, squeeze, prefix, mangle_dupe_cols, dtype, engine, converters, true_values, false_values, skipinitialspace, skiprows, skipfooter, nrows, na_values, keep_default_na, na_filter, verbose, skip_blank_lines, parse_dates, infer_datetime_format, keep_date_col, date_parser, dayfirst, cache_dates, iterator, chunksize, compression, thousands, decimal, lineterminator, quotechar, quoting, doublequote, escapechar, comment, encoding, encoding_errors, dialect, error_bad_lines, warn_bad_lines, on_bad_lines, delim_whitespace, low_memory, memory_map, float_precision, storage_options)\u001b[0m\n\u001b[0;32m    935\u001b[0m kwds_defaults \u001b[39m=\u001b[39m _refine_defaults_read(\n\u001b[0;32m    936\u001b[0m     dialect,\n\u001b[0;32m    937\u001b[0m     delimiter,\n\u001b[1;32m   (...)\u001b[0m\n\u001b[0;32m    946\u001b[0m     defaults\u001b[39m=\u001b[39m{\u001b[39m\"\u001b[39m\u001b[39mdelimiter\u001b[39m\u001b[39m\"\u001b[39m: \u001b[39m\"\u001b[39m\u001b[39m,\u001b[39m\u001b[39m\"\u001b[39m},\n\u001b[0;32m    947\u001b[0m )\n\u001b[0;32m    948\u001b[0m kwds\u001b[39m.\u001b[39mupdate(kwds_defaults)\n\u001b[1;32m--> 950\u001b[0m \u001b[39mreturn\u001b[39;00m _read(filepath_or_buffer, kwds)\n",
      "File \u001b[1;32mc:\\Users\\kianv\\Desktop\\Python\\crypto\\.venv\\Lib\\site-packages\\pandas\\io\\parsers\\readers.py:605\u001b[0m, in \u001b[0;36m_read\u001b[1;34m(filepath_or_buffer, kwds)\u001b[0m\n\u001b[0;32m    602\u001b[0m _validate_names(kwds\u001b[39m.\u001b[39mget(\u001b[39m\"\u001b[39m\u001b[39mnames\u001b[39m\u001b[39m\"\u001b[39m, \u001b[39mNone\u001b[39;00m))\n\u001b[0;32m    604\u001b[0m \u001b[39m# Create the parser.\u001b[39;00m\n\u001b[1;32m--> 605\u001b[0m parser \u001b[39m=\u001b[39m TextFileReader(filepath_or_buffer, \u001b[39m*\u001b[39;49m\u001b[39m*\u001b[39;49mkwds)\n\u001b[0;32m    607\u001b[0m \u001b[39mif\u001b[39;00m chunksize \u001b[39mor\u001b[39;00m iterator:\n\u001b[0;32m    608\u001b[0m     \u001b[39mreturn\u001b[39;00m parser\n",
      "File \u001b[1;32mc:\\Users\\kianv\\Desktop\\Python\\crypto\\.venv\\Lib\\site-packages\\pandas\\io\\parsers\\readers.py:1442\u001b[0m, in \u001b[0;36mTextFileReader.__init__\u001b[1;34m(self, f, engine, **kwds)\u001b[0m\n\u001b[0;32m   1439\u001b[0m     \u001b[39mself\u001b[39m\u001b[39m.\u001b[39moptions[\u001b[39m\"\u001b[39m\u001b[39mhas_index_names\u001b[39m\u001b[39m\"\u001b[39m] \u001b[39m=\u001b[39m kwds[\u001b[39m\"\u001b[39m\u001b[39mhas_index_names\u001b[39m\u001b[39m\"\u001b[39m]\n\u001b[0;32m   1441\u001b[0m \u001b[39mself\u001b[39m\u001b[39m.\u001b[39mhandles: IOHandles \u001b[39m|\u001b[39m \u001b[39mNone\u001b[39;00m \u001b[39m=\u001b[39m \u001b[39mNone\u001b[39;00m\n\u001b[1;32m-> 1442\u001b[0m \u001b[39mself\u001b[39m\u001b[39m.\u001b[39m_engine \u001b[39m=\u001b[39m \u001b[39mself\u001b[39;49m\u001b[39m.\u001b[39;49m_make_engine(f, \u001b[39mself\u001b[39;49m\u001b[39m.\u001b[39;49mengine)\n",
      "File \u001b[1;32mc:\\Users\\kianv\\Desktop\\Python\\crypto\\.venv\\Lib\\site-packages\\pandas\\io\\parsers\\readers.py:1735\u001b[0m, in \u001b[0;36mTextFileReader._make_engine\u001b[1;34m(self, f, engine)\u001b[0m\n\u001b[0;32m   1733\u001b[0m     \u001b[39mif\u001b[39;00m \u001b[39m\"\u001b[39m\u001b[39mb\u001b[39m\u001b[39m\"\u001b[39m \u001b[39mnot\u001b[39;00m \u001b[39min\u001b[39;00m mode:\n\u001b[0;32m   1734\u001b[0m         mode \u001b[39m+\u001b[39m\u001b[39m=\u001b[39m \u001b[39m\"\u001b[39m\u001b[39mb\u001b[39m\u001b[39m\"\u001b[39m\n\u001b[1;32m-> 1735\u001b[0m \u001b[39mself\u001b[39m\u001b[39m.\u001b[39mhandles \u001b[39m=\u001b[39m get_handle(\n\u001b[0;32m   1736\u001b[0m     f,\n\u001b[0;32m   1737\u001b[0m     mode,\n\u001b[0;32m   1738\u001b[0m     encoding\u001b[39m=\u001b[39;49m\u001b[39mself\u001b[39;49m\u001b[39m.\u001b[39;49moptions\u001b[39m.\u001b[39;49mget(\u001b[39m\"\u001b[39;49m\u001b[39mencoding\u001b[39;49m\u001b[39m\"\u001b[39;49m, \u001b[39mNone\u001b[39;49;00m),\n\u001b[0;32m   1739\u001b[0m     compression\u001b[39m=\u001b[39;49m\u001b[39mself\u001b[39;49m\u001b[39m.\u001b[39;49moptions\u001b[39m.\u001b[39;49mget(\u001b[39m\"\u001b[39;49m\u001b[39mcompression\u001b[39;49m\u001b[39m\"\u001b[39;49m, \u001b[39mNone\u001b[39;49;00m),\n\u001b[0;32m   1740\u001b[0m     memory_map\u001b[39m=\u001b[39;49m\u001b[39mself\u001b[39;49m\u001b[39m.\u001b[39;49moptions\u001b[39m.\u001b[39;49mget(\u001b[39m\"\u001b[39;49m\u001b[39mmemory_map\u001b[39;49m\u001b[39m\"\u001b[39;49m, \u001b[39mFalse\u001b[39;49;00m),\n\u001b[0;32m   1741\u001b[0m     is_text\u001b[39m=\u001b[39;49mis_text,\n\u001b[0;32m   1742\u001b[0m     errors\u001b[39m=\u001b[39;49m\u001b[39mself\u001b[39;49m\u001b[39m.\u001b[39;49moptions\u001b[39m.\u001b[39;49mget(\u001b[39m\"\u001b[39;49m\u001b[39mencoding_errors\u001b[39;49m\u001b[39m\"\u001b[39;49m, \u001b[39m\"\u001b[39;49m\u001b[39mstrict\u001b[39;49m\u001b[39m\"\u001b[39;49m),\n\u001b[0;32m   1743\u001b[0m     storage_options\u001b[39m=\u001b[39;49m\u001b[39mself\u001b[39;49m\u001b[39m.\u001b[39;49moptions\u001b[39m.\u001b[39;49mget(\u001b[39m\"\u001b[39;49m\u001b[39mstorage_options\u001b[39;49m\u001b[39m\"\u001b[39;49m, \u001b[39mNone\u001b[39;49;00m),\n\u001b[0;32m   1744\u001b[0m )\n\u001b[0;32m   1745\u001b[0m \u001b[39massert\u001b[39;00m \u001b[39mself\u001b[39m\u001b[39m.\u001b[39mhandles \u001b[39mis\u001b[39;00m \u001b[39mnot\u001b[39;00m \u001b[39mNone\u001b[39;00m\n\u001b[0;32m   1746\u001b[0m f \u001b[39m=\u001b[39m \u001b[39mself\u001b[39m\u001b[39m.\u001b[39mhandles\u001b[39m.\u001b[39mhandle\n",
      "File \u001b[1;32mc:\\Users\\kianv\\Desktop\\Python\\crypto\\.venv\\Lib\\site-packages\\pandas\\io\\common.py:856\u001b[0m, in \u001b[0;36mget_handle\u001b[1;34m(path_or_buf, mode, encoding, compression, memory_map, is_text, errors, storage_options)\u001b[0m\n\u001b[0;32m    851\u001b[0m \u001b[39melif\u001b[39;00m \u001b[39misinstance\u001b[39m(handle, \u001b[39mstr\u001b[39m):\n\u001b[0;32m    852\u001b[0m     \u001b[39m# Check whether the filename is to be opened in binary mode.\u001b[39;00m\n\u001b[0;32m    853\u001b[0m     \u001b[39m# Binary mode does not support 'encoding' and 'newline'.\u001b[39;00m\n\u001b[0;32m    854\u001b[0m     \u001b[39mif\u001b[39;00m ioargs\u001b[39m.\u001b[39mencoding \u001b[39mand\u001b[39;00m \u001b[39m\"\u001b[39m\u001b[39mb\u001b[39m\u001b[39m\"\u001b[39m \u001b[39mnot\u001b[39;00m \u001b[39min\u001b[39;00m ioargs\u001b[39m.\u001b[39mmode:\n\u001b[0;32m    855\u001b[0m         \u001b[39m# Encoding\u001b[39;00m\n\u001b[1;32m--> 856\u001b[0m         handle \u001b[39m=\u001b[39m \u001b[39mopen\u001b[39;49m(\n\u001b[0;32m    857\u001b[0m             handle,\n\u001b[0;32m    858\u001b[0m             ioargs\u001b[39m.\u001b[39;49mmode,\n\u001b[0;32m    859\u001b[0m             encoding\u001b[39m=\u001b[39;49mioargs\u001b[39m.\u001b[39;49mencoding,\n\u001b[0;32m    860\u001b[0m             errors\u001b[39m=\u001b[39;49merrors,\n\u001b[0;32m    861\u001b[0m             newline\u001b[39m=\u001b[39;49m\u001b[39m\"\u001b[39;49m\u001b[39m\"\u001b[39;49m,\n\u001b[0;32m    862\u001b[0m         )\n\u001b[0;32m    863\u001b[0m     \u001b[39melse\u001b[39;00m:\n\u001b[0;32m    864\u001b[0m         \u001b[39m# Binary mode\u001b[39;00m\n\u001b[0;32m    865\u001b[0m         handle \u001b[39m=\u001b[39m \u001b[39mopen\u001b[39m(handle, ioargs\u001b[39m.\u001b[39mmode)\n",
      "\u001b[1;31mFileNotFoundError\u001b[0m: [Errno 2] No such file or directory: './data.csv'"
     ]
    }
   ],
   "source": [
    "df = pd.read_csv('./data.csv',converters={\"Links\": literal_eval})\n",
    "del df['Unnamed: 0']"
   ]
  },
  {
   "attachments": {},
   "cell_type": "markdown",
   "metadata": {},
   "source": [
    "Download PDF from a given link"
   ]
  },
  {
   "cell_type": "code",
   "execution_count": 86,
   "metadata": {},
   "outputs": [],
   "source": [
    "from selenium import webdriver\n",
    "from selenium.webdriver.support.ui import Select\n",
    "from selenium.webdriver.common.by import By\n",
    "from selenium.webdriver.common.keys import Keys\n",
    "from selenium import webdriver\n",
    "from webdriver_manager.chrome import ChromeDriverManager\n",
    "profile = {\"plugins.plugins_list\": [{\"enabled\": False,\n",
    "                                         \"name\": \"Chrome PDF Viewer\"}],\n",
    "               \"download.default_directory\": \"C:\\\\Users\\\\kianv\\\\Desktop\\\\Python\\\\crypto\\\\PDFS\",\n",
    "               \"download.extensions_to_open\": \"\",\n",
    "               \"plugins.always_open_pdf_externally\": True}\n",
    "options = webdriver.ChromeOptions()\n",
    "options.add_experimental_option('prefs', profile)\n",
    "driver = webdriver.Chrome(options=options)"
   ]
  },
  {
   "cell_type": "code",
   "execution_count": 92,
   "metadata": {},
   "outputs": [
    {
     "data": {
      "text/plain": [
       "'InvArch Network'"
      ]
     },
     "execution_count": 92,
     "metadata": {},
     "output_type": "execute_result"
    }
   ],
   "source": [
    "df['Name'][104]"
   ]
  },
  {
   "cell_type": "code",
   "execution_count": 93,
   "metadata": {},
   "outputs": [
    {
     "name": "stdout",
     "output_type": "stream",
     "text": [
      "InvArch Network\n",
      "InvArch Network\n",
      "http://zerocash-project.org/media/pdf/zerocash-extended-20140518.pdf\n",
      "[WinError 32] The process cannot access the file because it is being used by another process: 'C:\\\\Users\\\\kianv\\\\Desktop\\\\Python\\\\crypto\\\\PDFS\\\\\\\\protocol.pdf.crdownload' -> 'C:\\\\Users\\\\kianv\\\\Desktop\\\\Python\\\\crypto\\\\PDFS\\\\\\\\http://zerocash-project.org/media/pdf/zerocash-extended-20140518.pdf0.pdf'\n",
      "[WinError 123] The filename, directory name, or volume label syntax is incorrect: 'C:\\\\Users\\\\kianv\\\\Desktop\\\\Python\\\\crypto\\\\PDFS\\\\\\\\protocol.pdf.crdownload' -> 'C:\\\\Users\\\\kianv\\\\Desktop\\\\Python\\\\crypto\\\\PDFS\\\\\\\\http://zerocash-project.org/media/pdf/zerocash-extended-20140518.pdf0.pdf'\n",
      "[WinError 123] The filename, directory name, or volume label syntax is incorrect: 'C:\\\\Users\\\\kianv\\\\Desktop\\\\Python\\\\crypto\\\\PDFS\\\\\\\\protocol.pdf' -> 'C:\\\\Users\\\\kianv\\\\Desktop\\\\Python\\\\crypto\\\\PDFS\\\\\\\\http://zerocash-project.org/media/pdf/zerocash-extended-20140518.pdf0.pdf'\n",
      "[WinError 123] The filename, directory name, or volume label syntax is incorrect: 'C:\\\\Users\\\\kianv\\\\Desktop\\\\Python\\\\crypto\\\\PDFS\\\\\\\\protocol.pdf' -> 'C:\\\\Users\\\\kianv\\\\Desktop\\\\Python\\\\crypto\\\\PDFS\\\\\\\\http://zerocash-project.org/media/pdf/zerocash-extended-20140518.pdf0.pdf'\n",
      "[WinError 123] The filename, directory name, or volume label syntax is incorrect: 'C:\\\\Users\\\\kianv\\\\Desktop\\\\Python\\\\crypto\\\\PDFS\\\\\\\\protocol.pdf' -> 'C:\\\\Users\\\\kianv\\\\Desktop\\\\Python\\\\crypto\\\\PDFS\\\\\\\\http://zerocash-project.org/media/pdf/zerocash-extended-20140518.pdf0.pdf'\n",
      "[WinError 123] The filename, directory name, or volume label syntax is incorrect: 'C:\\\\Users\\\\kianv\\\\Desktop\\\\Python\\\\crypto\\\\PDFS\\\\\\\\protocol.pdf' -> 'C:\\\\Users\\\\kianv\\\\Desktop\\\\Python\\\\crypto\\\\PDFS\\\\\\\\http://zerocash-project.org/media/pdf/zerocash-extended-20140518.pdf0.pdf'\n",
      "[WinError 123] The filename, directory name, or volume label syntax is incorrect: 'C:\\\\Users\\\\kianv\\\\Desktop\\\\Python\\\\crypto\\\\PDFS\\\\\\\\protocol.pdf' -> 'C:\\\\Users\\\\kianv\\\\Desktop\\\\Python\\\\crypto\\\\PDFS\\\\\\\\http://zerocash-project.org/media/pdf/zerocash-extended-20140518.pdf0.pdf'\n",
      "[WinError 123] The filename, directory name, or volume label syntax is incorrect: 'C:\\\\Users\\\\kianv\\\\Desktop\\\\Python\\\\crypto\\\\PDFS\\\\\\\\protocol.pdf' -> 'C:\\\\Users\\\\kianv\\\\Desktop\\\\Python\\\\crypto\\\\PDFS\\\\\\\\http://zerocash-project.org/media/pdf/zerocash-extended-20140518.pdf0.pdf'\n",
      "[WinError 123] The filename, directory name, or volume label syntax is incorrect: 'C:\\\\Users\\\\kianv\\\\Desktop\\\\Python\\\\crypto\\\\PDFS\\\\\\\\protocol.pdf' -> 'C:\\\\Users\\\\kianv\\\\Desktop\\\\Python\\\\crypto\\\\PDFS\\\\\\\\http://zerocash-project.org/media/pdf/zerocash-extended-20140518.pdf0.pdf'\n",
      "[WinError 123] The filename, directory name, or volume label syntax is incorrect: 'C:\\\\Users\\\\kianv\\\\Desktop\\\\Python\\\\crypto\\\\PDFS\\\\\\\\protocol.pdf' -> 'C:\\\\Users\\\\kianv\\\\Desktop\\\\Python\\\\crypto\\\\PDFS\\\\\\\\http://zerocash-project.org/media/pdf/zerocash-extended-20140518.pdf0.pdf'\n",
      "[WinError 123] The filename, directory name, or volume label syntax is incorrect: 'C:\\\\Users\\\\kianv\\\\Desktop\\\\Python\\\\crypto\\\\PDFS\\\\\\\\protocol.pdf' -> 'C:\\\\Users\\\\kianv\\\\Desktop\\\\Python\\\\crypto\\\\PDFS\\\\\\\\http://zerocash-project.org/media/pdf/zerocash-extended-20140518.pdf0.pdf'\n",
      "[WinError 123] The filename, directory name, or volume label syntax is incorrect: 'C:\\\\Users\\\\kianv\\\\Desktop\\\\Python\\\\crypto\\\\PDFS\\\\\\\\protocol.pdf' -> 'C:\\\\Users\\\\kianv\\\\Desktop\\\\Python\\\\crypto\\\\PDFS\\\\\\\\http://zerocash-project.org/media/pdf/zerocash-extended-20140518.pdf0.pdf'\n",
      "[WinError 123] The filename, directory name, or volume label syntax is incorrect: 'C:\\\\Users\\\\kianv\\\\Desktop\\\\Python\\\\crypto\\\\PDFS\\\\\\\\protocol.pdf' -> 'C:\\\\Users\\\\kianv\\\\Desktop\\\\Python\\\\crypto\\\\PDFS\\\\\\\\http://zerocash-project.org/media/pdf/zerocash-extended-20140518.pdf0.pdf'\n",
      "[WinError 123] The filename, directory name, or volume label syntax is incorrect: 'C:\\\\Users\\\\kianv\\\\Desktop\\\\Python\\\\crypto\\\\PDFS\\\\\\\\protocol.pdf' -> 'C:\\\\Users\\\\kianv\\\\Desktop\\\\Python\\\\crypto\\\\PDFS\\\\\\\\http://zerocash-project.org/media/pdf/zerocash-extended-20140518.pdf0.pdf'\n",
      "[WinError 123] The filename, directory name, or volume label syntax is incorrect: 'C:\\\\Users\\\\kianv\\\\Desktop\\\\Python\\\\crypto\\\\PDFS\\\\\\\\protocol.pdf' -> 'C:\\\\Users\\\\kianv\\\\Desktop\\\\Python\\\\crypto\\\\PDFS\\\\\\\\http://zerocash-project.org/media/pdf/zerocash-extended-20140518.pdf0.pdf'\n",
      "[WinError 123] The filename, directory name, or volume label syntax is incorrect: 'C:\\\\Users\\\\kianv\\\\Desktop\\\\Python\\\\crypto\\\\PDFS\\\\\\\\protocol.pdf' -> 'C:\\\\Users\\\\kianv\\\\Desktop\\\\Python\\\\crypto\\\\PDFS\\\\\\\\http://zerocash-project.org/media/pdf/zerocash-extended-20140518.pdf0.pdf'\n",
      "[WinError 123] The filename, directory name, or volume label syntax is incorrect: 'C:\\\\Users\\\\kianv\\\\Desktop\\\\Python\\\\crypto\\\\PDFS\\\\\\\\protocol.pdf' -> 'C:\\\\Users\\\\kianv\\\\Desktop\\\\Python\\\\crypto\\\\PDFS\\\\\\\\http://zerocash-project.org/media/pdf/zerocash-extended-20140518.pdf0.pdf'\n",
      "[WinError 123] The filename, directory name, or volume label syntax is incorrect: 'C:\\\\Users\\\\kianv\\\\Desktop\\\\Python\\\\crypto\\\\PDFS\\\\\\\\protocol.pdf' -> 'C:\\\\Users\\\\kianv\\\\Desktop\\\\Python\\\\crypto\\\\PDFS\\\\\\\\http://zerocash-project.org/media/pdf/zerocash-extended-20140518.pdf0.pdf'\n",
      "[WinError 123] The filename, directory name, or volume label syntax is incorrect: 'C:\\\\Users\\\\kianv\\\\Desktop\\\\Python\\\\crypto\\\\PDFS\\\\\\\\protocol.pdf' -> 'C:\\\\Users\\\\kianv\\\\Desktop\\\\Python\\\\crypto\\\\PDFS\\\\\\\\http://zerocash-project.org/media/pdf/zerocash-extended-20140518.pdf0.pdf'\n",
      "[WinError 123] The filename, directory name, or volume label syntax is incorrect: 'C:\\\\Users\\\\kianv\\\\Desktop\\\\Python\\\\crypto\\\\PDFS\\\\\\\\protocol.pdf' -> 'C:\\\\Users\\\\kianv\\\\Desktop\\\\Python\\\\crypto\\\\PDFS\\\\\\\\http://zerocash-project.org/media/pdf/zerocash-extended-20140518.pdf0.pdf'\n",
      "Particl\n",
      "Ravencoin\n",
      "Ravencoin\n",
      "Balancer\n",
      "Balancer\n",
      "Polymath (cryptocurrency)\n",
      "Polymath (cryptocurrency)\n"
     ]
    },
    {
     "ename": "WebDriverException",
     "evalue": "Message: unknown error: net::ERR_NAME_NOT_RESOLVED\n  (Session info: chrome=109.0.5414.120)\nStacktrace:\nBacktrace:\n\t(No symbol) [0x00996643]\n\t(No symbol) [0x0092BE21]\n\t(No symbol) [0x0082DA9D]\n\t(No symbol) [0x00829E22]\n\t(No symbol) [0x0081FCFD]\n\t(No symbol) [0x00821101]\n\t(No symbol) [0x0081FFDD]\n\t(No symbol) [0x0081F3BC]\n\t(No symbol) [0x0081F2D8]\n\t(No symbol) [0x0081DC68]\n\t(No symbol) [0x0081E512]\n\t(No symbol) [0x0082F75B]\n\t(No symbol) [0x00897727]\n\t(No symbol) [0x0087FD7C]\n\t(No symbol) [0x00896B09]\n\t(No symbol) [0x0087FB76]\n\t(No symbol) [0x008549C1]\n\t(No symbol) [0x00855E5D]\n\tGetHandleVerifier [0x00C0A142+2497106]\n\tGetHandleVerifier [0x00C385D3+2686691]\n\tGetHandleVerifier [0x00C3BB9C+2700460]\n\tGetHandleVerifier [0x00A43B10+635936]\n\t(No symbol) [0x00934A1F]\n\t(No symbol) [0x0093A418]\n\t(No symbol) [0x0093A505]\n\t(No symbol) [0x0094508B]\n\tBaseThreadInitThunk [0x751100F9+25]\n\tRtlGetAppContainerNamedObjectPath [0x77297BBE+286]\n\tRtlGetAppContainerNamedObjectPath [0x77297B8E+238]\n",
     "output_type": "error",
     "traceback": [
      "\u001b[1;31m---------------------------------------------------------------------------\u001b[0m",
      "\u001b[1;31mWebDriverException\u001b[0m                        Traceback (most recent call last)",
      "Cell \u001b[1;32mIn[93], line 10\u001b[0m\n\u001b[0;32m      8\u001b[0m     \u001b[39m#driver.switch_to.new_window('window')\u001b[39;00m\n\u001b[0;32m      9\u001b[0m \u001b[39mfor\u001b[39;00m k \u001b[39min\u001b[39;00m \u001b[39mrange\u001b[39m(\u001b[39m0\u001b[39m,\u001b[39mlen\u001b[39m(elem)):\n\u001b[1;32m---> 10\u001b[0m     driver\u001b[39m.\u001b[39;49mget(elem[k])\n\u001b[0;32m     11\u001b[0m     time\u001b[39m.\u001b[39msleep(\u001b[39m0.01\u001b[39m)\n\u001b[0;32m     12\u001b[0m     new_directorylen \u001b[39m=\u001b[39m \u001b[39mlen\u001b[39m(\u001b[39mlist\u001b[39m(os\u001b[39m.\u001b[39mlistdir(\u001b[39mr\u001b[39m\u001b[39m'\u001b[39m\u001b[39mC:\u001b[39m\u001b[39m\\\u001b[39m\u001b[39mUsers\u001b[39m\u001b[39m\\\u001b[39m\u001b[39mkianv\u001b[39m\u001b[39m\\\u001b[39m\u001b[39mDesktop\u001b[39m\u001b[39m\\\u001b[39m\u001b[39mPython\u001b[39m\u001b[39m\\\u001b[39m\u001b[39mcrypto\u001b[39m\u001b[39m\\\u001b[39m\u001b[39mPDFS\u001b[39m\u001b[39m'\u001b[39m)))\n",
      "File \u001b[1;32mc:\\Users\\kianv\\Desktop\\Python\\crypto\\.venv\\Lib\\site-packages\\selenium\\webdriver\\remote\\webdriver.py:455\u001b[0m, in \u001b[0;36mWebDriver.get\u001b[1;34m(self, url)\u001b[0m\n\u001b[0;32m    451\u001b[0m \u001b[39mdef\u001b[39;00m \u001b[39mget\u001b[39m(\u001b[39mself\u001b[39m, url: \u001b[39mstr\u001b[39m) \u001b[39m-\u001b[39m\u001b[39m>\u001b[39m \u001b[39mNone\u001b[39;00m:\n\u001b[0;32m    452\u001b[0m \u001b[39m    \u001b[39m\u001b[39m\"\"\"\u001b[39;00m\n\u001b[0;32m    453\u001b[0m \u001b[39m    Loads a web page in the current browser session.\u001b[39;00m\n\u001b[0;32m    454\u001b[0m \u001b[39m    \"\"\"\u001b[39;00m\n\u001b[1;32m--> 455\u001b[0m     \u001b[39mself\u001b[39;49m\u001b[39m.\u001b[39;49mexecute(Command\u001b[39m.\u001b[39;49mGET, {\u001b[39m\"\u001b[39;49m\u001b[39murl\u001b[39;49m\u001b[39m\"\u001b[39;49m: url})\n",
      "File \u001b[1;32mc:\\Users\\kianv\\Desktop\\Python\\crypto\\.venv\\Lib\\site-packages\\selenium\\webdriver\\remote\\webdriver.py:444\u001b[0m, in \u001b[0;36mWebDriver.execute\u001b[1;34m(self, driver_command, params)\u001b[0m\n\u001b[0;32m    442\u001b[0m response \u001b[39m=\u001b[39m \u001b[39mself\u001b[39m\u001b[39m.\u001b[39mcommand_executor\u001b[39m.\u001b[39mexecute(driver_command, params)\n\u001b[0;32m    443\u001b[0m \u001b[39mif\u001b[39;00m response:\n\u001b[1;32m--> 444\u001b[0m     \u001b[39mself\u001b[39;49m\u001b[39m.\u001b[39;49merror_handler\u001b[39m.\u001b[39;49mcheck_response(response)\n\u001b[0;32m    445\u001b[0m     response[\u001b[39m\"\u001b[39m\u001b[39mvalue\u001b[39m\u001b[39m\"\u001b[39m] \u001b[39m=\u001b[39m \u001b[39mself\u001b[39m\u001b[39m.\u001b[39m_unwrap_value(response\u001b[39m.\u001b[39mget(\u001b[39m\"\u001b[39m\u001b[39mvalue\u001b[39m\u001b[39m\"\u001b[39m, \u001b[39mNone\u001b[39;00m))\n\u001b[0;32m    446\u001b[0m     \u001b[39mreturn\u001b[39;00m response\n",
      "File \u001b[1;32mc:\\Users\\kianv\\Desktop\\Python\\crypto\\.venv\\Lib\\site-packages\\selenium\\webdriver\\remote\\errorhandler.py:249\u001b[0m, in \u001b[0;36mErrorHandler.check_response\u001b[1;34m(self, response)\u001b[0m\n\u001b[0;32m    247\u001b[0m         alert_text \u001b[39m=\u001b[39m value[\u001b[39m\"\u001b[39m\u001b[39malert\u001b[39m\u001b[39m\"\u001b[39m]\u001b[39m.\u001b[39mget(\u001b[39m\"\u001b[39m\u001b[39mtext\u001b[39m\u001b[39m\"\u001b[39m)\n\u001b[0;32m    248\u001b[0m     \u001b[39mraise\u001b[39;00m exception_class(message, screen, stacktrace, alert_text)  \u001b[39m# type: ignore[call-arg]  # mypy is not smart enough here\u001b[39;00m\n\u001b[1;32m--> 249\u001b[0m \u001b[39mraise\u001b[39;00m exception_class(message, screen, stacktrace)\n",
      "\u001b[1;31mWebDriverException\u001b[0m: Message: unknown error: net::ERR_NAME_NOT_RESOLVED\n  (Session info: chrome=109.0.5414.120)\nStacktrace:\nBacktrace:\n\t(No symbol) [0x00996643]\n\t(No symbol) [0x0092BE21]\n\t(No symbol) [0x0082DA9D]\n\t(No symbol) [0x00829E22]\n\t(No symbol) [0x0081FCFD]\n\t(No symbol) [0x00821101]\n\t(No symbol) [0x0081FFDD]\n\t(No symbol) [0x0081F3BC]\n\t(No symbol) [0x0081F2D8]\n\t(No symbol) [0x0081DC68]\n\t(No symbol) [0x0081E512]\n\t(No symbol) [0x0082F75B]\n\t(No symbol) [0x00897727]\n\t(No symbol) [0x0087FD7C]\n\t(No symbol) [0x00896B09]\n\t(No symbol) [0x0087FB76]\n\t(No symbol) [0x008549C1]\n\t(No symbol) [0x00855E5D]\n\tGetHandleVerifier [0x00C0A142+2497106]\n\tGetHandleVerifier [0x00C385D3+2686691]\n\tGetHandleVerifier [0x00C3BB9C+2700460]\n\tGetHandleVerifier [0x00A43B10+635936]\n\t(No symbol) [0x00934A1F]\n\t(No symbol) [0x0093A418]\n\t(No symbol) [0x0093A505]\n\t(No symbol) [0x0094508B]\n\tBaseThreadInitThunk [0x751100F9+25]\n\tRtlGetAppContainerNamedObjectPath [0x77297BBE+286]\n\tRtlGetAppContainerNamedObjectPath [0x77297B8E+238]\n"
     ]
    }
   ],
   "source": [
    "j = 0\n",
    "old_directorylen = len(list(os.listdir(r'C:\\Users\\kianv\\Desktop\\Python\\crypto\\PDFS')))\n",
    "tab_number = 0\n",
    "namecount = 480\n",
    "for elem in df['Links'][namecount:len(list(df['Links']))]:\n",
    "    if namecount%26 == 0:\n",
    "        driver = webdriver.Chrome(options=options)\n",
    "        #driver.switch_to.new_window('window')\n",
    "    for k in range(0,len(elem)):\n",
    "        driver.get(elem[k])\n",
    "        time.sleep(0.01)\n",
    "        new_directorylen = len(list(os.listdir(r'C:\\Users\\kianv\\Desktop\\Python\\crypto\\PDFS')))\n",
    "        print(df['Name'][namecount])\n",
    "        if new_directorylen == old_directorylen:\n",
    "            driver.execute_script(\"window.open('');\")\n",
    "            # Switch to the new window and open new URL\n",
    "            tab_number+=1\n",
    "            #driver.switch_to.window(driver.window_handles[tab_number])\n",
    "            \n",
    "        else:\n",
    "            #latest_download_file()\n",
    "            #Keep trying until successful\n",
    "            result = None\n",
    "            maxtries = 20\n",
    "            tries = 0\n",
    "            for j in range(0,20):\n",
    "                time.sleep(0.5)\n",
    "                try:\n",
    "                    # connect\n",
    "                    old_name = latest_download_file()\n",
    "                    new_name = r'C:\\Users\\kianv\\Desktop\\Python\\crypto\\PDFS\\\\'+str(df['Name'][namecount]) +str(k) + '.pdf'\n",
    "                    os.rename(old_name,new_name)\n",
    "                    break\n",
    "                except Exception as e: \n",
    "                    print(e)\n",
    "                    pass\n",
    "            old_directorylen = new_directorylen\n",
    "\n",
    "    namecount+=1"
   ]
  },
  {
   "cell_type": "code",
   "execution_count": 74,
   "metadata": {},
   "outputs": [
    {
     "data": {
      "text/html": [
       "<div>\n",
       "<style scoped>\n",
       "    .dataframe tbody tr th:only-of-type {\n",
       "        vertical-align: middle;\n",
       "    }\n",
       "\n",
       "    .dataframe tbody tr th {\n",
       "        vertical-align: top;\n",
       "    }\n",
       "\n",
       "    .dataframe thead th {\n",
       "        text-align: right;\n",
       "    }\n",
       "</style>\n",
       "<table border=\"1\" class=\"dataframe\">\n",
       "  <thead>\n",
       "    <tr style=\"text-align: right;\">\n",
       "      <th></th>\n",
       "      <th>Name</th>\n",
       "      <th>Links</th>\n",
       "    </tr>\n",
       "  </thead>\n",
       "  <tbody>\n",
       "    <tr>\n",
       "      <th>0</th>\n",
       "      <td>HydraDX (HDX)</td>\n",
       "      <td>[https://docs.hydradx.io/]</td>\n",
       "    </tr>\n",
       "    <tr>\n",
       "      <th>1</th>\n",
       "      <td>Green Satoshi Token</td>\n",
       "      <td>[https://whitepaper.stepn.com/, https://whitep...</td>\n",
       "    </tr>\n",
       "    <tr>\n",
       "      <th>2</th>\n",
       "      <td>Brokoli Network</td>\n",
       "      <td>[https://whitepaper.brokoli.network]</td>\n",
       "    </tr>\n",
       "    <tr>\n",
       "      <th>3</th>\n",
       "      <td>Huobi</td>\n",
       "      <td>[https://www.htokens.finance/static/pdf/whitep...</td>\n",
       "    </tr>\n",
       "    <tr>\n",
       "      <th>4</th>\n",
       "      <td>Polkadot (cryptocurrency)</td>\n",
       "      <td>[https://polkadot.network/PolkaDotPaper.pdf]</td>\n",
       "    </tr>\n",
       "    <tr>\n",
       "      <th>...</th>\n",
       "      <td>...</td>\n",
       "      <td>...</td>\n",
       "    </tr>\n",
       "    <tr>\n",
       "      <th>9439</th>\n",
       "      <td>Shiba Monk</td>\n",
       "      <td>[https://emily-9.gitbook.io/shiba-monk-whitepa...</td>\n",
       "    </tr>\n",
       "    <tr>\n",
       "      <th>9440</th>\n",
       "      <td>‌\\nBitCastleWar</td>\n",
       "      <td>[https://v2.whitepaper.bitcastlewar.io/]</td>\n",
       "    </tr>\n",
       "    <tr>\n",
       "      <th>9441</th>\n",
       "      <td>RareApepeYC</td>\n",
       "      <td>[https://www.rareapepeyachtclub.com/]</td>\n",
       "    </tr>\n",
       "    <tr>\n",
       "      <th>9442</th>\n",
       "      <td>Louverture</td>\n",
       "      <td>[https://www.louverture.finance/Louverture%202...</td>\n",
       "    </tr>\n",
       "    <tr>\n",
       "      <th>9443</th>\n",
       "      <td>Piston (PSTN)</td>\n",
       "      <td>[https://piston-token.com/whitepaper]</td>\n",
       "    </tr>\n",
       "  </tbody>\n",
       "</table>\n",
       "<p>9444 rows × 2 columns</p>\n",
       "</div>"
      ],
      "text/plain": [
       "                           Name  \\\n",
       "0                 HydraDX (HDX)   \n",
       "1           Green Satoshi Token   \n",
       "2               Brokoli Network   \n",
       "3                         Huobi   \n",
       "4     Polkadot (cryptocurrency)   \n",
       "...                         ...   \n",
       "9439                 Shiba Monk   \n",
       "9440            ‌\\nBitCastleWar   \n",
       "9441                RareApepeYC   \n",
       "9442                 Louverture   \n",
       "9443              Piston (PSTN)   \n",
       "\n",
       "                                                  Links  \n",
       "0                            [https://docs.hydradx.io/]  \n",
       "1     [https://whitepaper.stepn.com/, https://whitep...  \n",
       "2                  [https://whitepaper.brokoli.network]  \n",
       "3     [https://www.htokens.finance/static/pdf/whitep...  \n",
       "4          [https://polkadot.network/PolkaDotPaper.pdf]  \n",
       "...                                                 ...  \n",
       "9439  [https://emily-9.gitbook.io/shiba-monk-whitepa...  \n",
       "9440           [https://v2.whitepaper.bitcastlewar.io/]  \n",
       "9441              [https://www.rareapepeyachtclub.com/]  \n",
       "9442  [https://www.louverture.finance/Louverture%202...  \n",
       "9443              [https://piston-token.com/whitepaper]  \n",
       "\n",
       "[9444 rows x 2 columns]"
      ]
     },
     "execution_count": 74,
     "metadata": {},
     "output_type": "execute_result"
    }
   ],
   "source": [
    "df"
   ]
  },
  {
   "cell_type": "code",
   "execution_count": 73,
   "metadata": {},
   "outputs": [
    {
     "data": {
      "text/plain": [
       "['https://whitepaper.stepn.com/',\n",
       " 'https://whitepaper.stepn.com/tokenomics/gst']"
      ]
     },
     "execution_count": 73,
     "metadata": {},
     "output_type": "execute_result"
    }
   ],
   "source": [
    "df['Links'][1]"
   ]
  },
  {
   "cell_type": "code",
   "execution_count": 57,
   "metadata": {},
   "outputs": [
    {
     "data": {
      "text/plain": [
       "'http://www.sandbox.game/The_Sandbox_Whitepaper_2020.pdf'"
      ]
     },
     "execution_count": 57,
     "metadata": {},
     "output_type": "execute_result"
    }
   ],
   "source": [
    "df['Name'][48]"
   ]
  },
  {
   "cell_type": "code",
   "execution_count": 52,
   "metadata": {},
   "outputs": [
    {
     "data": {
      "text/html": [
       "<div>\n",
       "<style scoped>\n",
       "    .dataframe tbody tr th:only-of-type {\n",
       "        vertical-align: middle;\n",
       "    }\n",
       "\n",
       "    .dataframe tbody tr th {\n",
       "        vertical-align: top;\n",
       "    }\n",
       "\n",
       "    .dataframe thead th {\n",
       "        text-align: right;\n",
       "    }\n",
       "</style>\n",
       "<table border=\"1\" class=\"dataframe\">\n",
       "  <thead>\n",
       "    <tr style=\"text-align: right;\">\n",
       "      <th></th>\n",
       "      <th>Name</th>\n",
       "      <th>Links</th>\n",
       "    </tr>\n",
       "  </thead>\n",
       "  <tbody>\n",
       "    <tr>\n",
       "      <th>0</th>\n",
       "      <td>HydraDX (HDX)</td>\n",
       "      <td>[https://docs.hydradx.io/]</td>\n",
       "    </tr>\n",
       "    <tr>\n",
       "      <th>1</th>\n",
       "      <td>Green Satoshi Token</td>\n",
       "      <td>[https://whitepaper.stepn.com/, https://whitep...</td>\n",
       "    </tr>\n",
       "    <tr>\n",
       "      <th>2</th>\n",
       "      <td>Brokoli Network</td>\n",
       "      <td>[https://whitepaper.brokoli.network]</td>\n",
       "    </tr>\n",
       "    <tr>\n",
       "      <th>3</th>\n",
       "      <td>Huobi</td>\n",
       "      <td>[https://www.htokens.finance/static/pdf/whitep...</td>\n",
       "    </tr>\n",
       "    <tr>\n",
       "      <th>4</th>\n",
       "      <td>Polkadot (cryptocurrency)</td>\n",
       "      <td>[https://polkadot.network/PolkaDotPaper.pdf]</td>\n",
       "    </tr>\n",
       "    <tr>\n",
       "      <th>...</th>\n",
       "      <td>...</td>\n",
       "      <td>...</td>\n",
       "    </tr>\n",
       "    <tr>\n",
       "      <th>95</th>\n",
       "      <td>Badger DAO</td>\n",
       "      <td>[https://docs.badger.com/badger-finance/]</td>\n",
       "    </tr>\n",
       "    <tr>\n",
       "      <th>96</th>\n",
       "      <td>Lumerin</td>\n",
       "      <td>[https://lumerin.io/wp-content/uploads/2021/12...</td>\n",
       "    </tr>\n",
       "    <tr>\n",
       "      <th>97</th>\n",
       "      <td>Mina (blockchain)</td>\n",
       "      <td>[https://minaprotocol.com/wp-content/uploads/e...</td>\n",
       "    </tr>\n",
       "    <tr>\n",
       "      <th>98</th>\n",
       "      <td>Oasis Foundation</td>\n",
       "      <td>[https://docsend.com/view/aq86q2pckrut2yvq, ht...</td>\n",
       "    </tr>\n",
       "    <tr>\n",
       "      <th>99</th>\n",
       "      <td>Axie Infinity</td>\n",
       "      <td>[https://whitepaper.axieinfinity.com/]</td>\n",
       "    </tr>\n",
       "  </tbody>\n",
       "</table>\n",
       "<p>100 rows × 2 columns</p>\n",
       "</div>"
      ],
      "text/plain": [
       "                         Name  \\\n",
       "0               HydraDX (HDX)   \n",
       "1         Green Satoshi Token   \n",
       "2             Brokoli Network   \n",
       "3                       Huobi   \n",
       "4   Polkadot (cryptocurrency)   \n",
       "..                        ...   \n",
       "95                 Badger DAO   \n",
       "96                    Lumerin   \n",
       "97          Mina (blockchain)   \n",
       "98           Oasis Foundation   \n",
       "99              Axie Infinity   \n",
       "\n",
       "                                                Links  \n",
       "0                          [https://docs.hydradx.io/]  \n",
       "1   [https://whitepaper.stepn.com/, https://whitep...  \n",
       "2                [https://whitepaper.brokoli.network]  \n",
       "3   [https://www.htokens.finance/static/pdf/whitep...  \n",
       "4        [https://polkadot.network/PolkaDotPaper.pdf]  \n",
       "..                                                ...  \n",
       "95          [https://docs.badger.com/badger-finance/]  \n",
       "96  [https://lumerin.io/wp-content/uploads/2021/12...  \n",
       "97  [https://minaprotocol.com/wp-content/uploads/e...  \n",
       "98  [https://docsend.com/view/aq86q2pckrut2yvq, ht...  \n",
       "99             [https://whitepaper.axieinfinity.com/]  \n",
       "\n",
       "[100 rows x 2 columns]"
      ]
     },
     "execution_count": 52,
     "metadata": {},
     "output_type": "execute_result"
    }
   ],
   "source": [
    "df.head(100)"
   ]
  },
  {
   "cell_type": "code",
   "execution_count": 39,
   "metadata": {},
   "outputs": [],
   "source": [
    "old_name = latest_download_file()\n",
    "new_name = r'C:\\Users\\kianv\\Desktop\\Python\\crypto\\PDFS\\\\'+str(df['Name'][namecount]) +str(k) + '.pdf'\n",
    "os.rename(old_name,new_name)"
   ]
  },
  {
   "cell_type": "code",
   "execution_count": 48,
   "metadata": {},
   "outputs": [],
   "source": [
    "import numpy as np"
   ]
  },
  {
   "cell_type": "code",
   "execution_count": 49,
   "metadata": {},
   "outputs": [
    {
     "ename": "KeyError",
     "evalue": "'Names'",
     "output_type": "error",
     "traceback": [
      "\u001b[1;31m---------------------------------------------------------------------------\u001b[0m",
      "\u001b[1;31mKeyError\u001b[0m                                  Traceback (most recent call last)",
      "File \u001b[1;32mc:\\Users\\kianv\\Desktop\\Python\\crypto\\.venv\\Lib\\site-packages\\pandas\\core\\indexes\\base.py:3803\u001b[0m, in \u001b[0;36mIndex.get_loc\u001b[1;34m(self, key, method, tolerance)\u001b[0m\n\u001b[0;32m   3802\u001b[0m \u001b[39mtry\u001b[39;00m:\n\u001b[1;32m-> 3803\u001b[0m     \u001b[39mreturn\u001b[39;00m \u001b[39mself\u001b[39;49m\u001b[39m.\u001b[39;49m_engine\u001b[39m.\u001b[39;49mget_loc(casted_key)\n\u001b[0;32m   3804\u001b[0m \u001b[39mexcept\u001b[39;00m \u001b[39mKeyError\u001b[39;00m \u001b[39mas\u001b[39;00m err:\n",
      "File \u001b[1;32mc:\\Users\\kianv\\Desktop\\Python\\crypto\\.venv\\Lib\\site-packages\\pandas\\_libs\\index.pyx:138\u001b[0m, in \u001b[0;36mpandas._libs.index.IndexEngine.get_loc\u001b[1;34m()\u001b[0m\n",
      "File \u001b[1;32mc:\\Users\\kianv\\Desktop\\Python\\crypto\\.venv\\Lib\\site-packages\\pandas\\_libs\\index.pyx:165\u001b[0m, in \u001b[0;36mpandas._libs.index.IndexEngine.get_loc\u001b[1;34m()\u001b[0m\n",
      "File \u001b[1;32mpandas\\_libs\\hashtable_class_helper.pxi:5745\u001b[0m, in \u001b[0;36mpandas._libs.hashtable.PyObjectHashTable.get_item\u001b[1;34m()\u001b[0m\n",
      "File \u001b[1;32mpandas\\_libs\\hashtable_class_helper.pxi:5753\u001b[0m, in \u001b[0;36mpandas._libs.hashtable.PyObjectHashTable.get_item\u001b[1;34m()\u001b[0m\n",
      "\u001b[1;31mKeyError\u001b[0m: 'Names'",
      "\nThe above exception was the direct cause of the following exception:\n",
      "\u001b[1;31mKeyError\u001b[0m                                  Traceback (most recent call last)",
      "Cell \u001b[1;32mIn[49], line 1\u001b[0m\n\u001b[1;32m----> 1\u001b[0m np\u001b[39m.\u001b[39mwhere(\u001b[39m'\u001b[39m\u001b[39mThe_Sandbox_Whitepaper_2020\u001b[39m\u001b[39m'\u001b[39m,df[\u001b[39m'\u001b[39;49m\u001b[39mNames\u001b[39;49m\u001b[39m'\u001b[39;49m])\n",
      "File \u001b[1;32mc:\\Users\\kianv\\Desktop\\Python\\crypto\\.venv\\Lib\\site-packages\\pandas\\core\\frame.py:3805\u001b[0m, in \u001b[0;36mDataFrame.__getitem__\u001b[1;34m(self, key)\u001b[0m\n\u001b[0;32m   3803\u001b[0m \u001b[39mif\u001b[39;00m \u001b[39mself\u001b[39m\u001b[39m.\u001b[39mcolumns\u001b[39m.\u001b[39mnlevels \u001b[39m>\u001b[39m \u001b[39m1\u001b[39m:\n\u001b[0;32m   3804\u001b[0m     \u001b[39mreturn\u001b[39;00m \u001b[39mself\u001b[39m\u001b[39m.\u001b[39m_getitem_multilevel(key)\n\u001b[1;32m-> 3805\u001b[0m indexer \u001b[39m=\u001b[39m \u001b[39mself\u001b[39;49m\u001b[39m.\u001b[39;49mcolumns\u001b[39m.\u001b[39;49mget_loc(key)\n\u001b[0;32m   3806\u001b[0m \u001b[39mif\u001b[39;00m is_integer(indexer):\n\u001b[0;32m   3807\u001b[0m     indexer \u001b[39m=\u001b[39m [indexer]\n",
      "File \u001b[1;32mc:\\Users\\kianv\\Desktop\\Python\\crypto\\.venv\\Lib\\site-packages\\pandas\\core\\indexes\\base.py:3805\u001b[0m, in \u001b[0;36mIndex.get_loc\u001b[1;34m(self, key, method, tolerance)\u001b[0m\n\u001b[0;32m   3803\u001b[0m     \u001b[39mreturn\u001b[39;00m \u001b[39mself\u001b[39m\u001b[39m.\u001b[39m_engine\u001b[39m.\u001b[39mget_loc(casted_key)\n\u001b[0;32m   3804\u001b[0m \u001b[39mexcept\u001b[39;00m \u001b[39mKeyError\u001b[39;00m \u001b[39mas\u001b[39;00m err:\n\u001b[1;32m-> 3805\u001b[0m     \u001b[39mraise\u001b[39;00m \u001b[39mKeyError\u001b[39;00m(key) \u001b[39mfrom\u001b[39;00m \u001b[39merr\u001b[39;00m\n\u001b[0;32m   3806\u001b[0m \u001b[39mexcept\u001b[39;00m \u001b[39mTypeError\u001b[39;00m:\n\u001b[0;32m   3807\u001b[0m     \u001b[39m# If we have a listlike key, _check_indexing_error will raise\u001b[39;00m\n\u001b[0;32m   3808\u001b[0m     \u001b[39m#  InvalidIndexError. Otherwise we fall through and re-raise\u001b[39;00m\n\u001b[0;32m   3809\u001b[0m     \u001b[39m#  the TypeError.\u001b[39;00m\n\u001b[0;32m   3810\u001b[0m     \u001b[39mself\u001b[39m\u001b[39m.\u001b[39m_check_indexing_error(key)\n",
      "\u001b[1;31mKeyError\u001b[0m: 'Names'"
     ]
    }
   ],
   "source": [
    "np.where('The_Sandbox_Whitepaper_2020',data[''])"
   ]
  },
  {
   "cell_type": "code",
   "execution_count": null,
   "metadata": {},
   "outputs": [],
   "source": [
    "np.as list(df['Name'])"
   ]
  },
  {
   "cell_type": "code",
   "execution_count": 15,
   "metadata": {},
   "outputs": [
    {
     "data": {
      "text/html": [
       "<div>\n",
       "<style scoped>\n",
       "    .dataframe tbody tr th:only-of-type {\n",
       "        vertical-align: middle;\n",
       "    }\n",
       "\n",
       "    .dataframe tbody tr th {\n",
       "        vertical-align: top;\n",
       "    }\n",
       "\n",
       "    .dataframe thead th {\n",
       "        text-align: right;\n",
       "    }\n",
       "</style>\n",
       "<table border=\"1\" class=\"dataframe\">\n",
       "  <thead>\n",
       "    <tr style=\"text-align: right;\">\n",
       "      <th></th>\n",
       "      <th>Name</th>\n",
       "      <th>Links</th>\n",
       "    </tr>\n",
       "  </thead>\n",
       "  <tbody>\n",
       "    <tr>\n",
       "      <th>0</th>\n",
       "      <td>HydraDX (HDX)</td>\n",
       "      <td>[https://docs.hydradx.io/]</td>\n",
       "    </tr>\n",
       "    <tr>\n",
       "      <th>1</th>\n",
       "      <td>Green Satoshi Token</td>\n",
       "      <td>[https://whitepaper.stepn.com/, https://whitep...</td>\n",
       "    </tr>\n",
       "    <tr>\n",
       "      <th>2</th>\n",
       "      <td>Brokoli Network</td>\n",
       "      <td>[https://whitepaper.brokoli.network]</td>\n",
       "    </tr>\n",
       "    <tr>\n",
       "      <th>3</th>\n",
       "      <td>Huobi</td>\n",
       "      <td>[https://www.htokens.finance/static/pdf/whitep...</td>\n",
       "    </tr>\n",
       "    <tr>\n",
       "      <th>4</th>\n",
       "      <td>Polkadot (cryptocurrency)</td>\n",
       "      <td>[https://polkadot.network/PolkaDotPaper.pdf]</td>\n",
       "    </tr>\n",
       "    <tr>\n",
       "      <th>5</th>\n",
       "      <td>Changpeng Zhao</td>\n",
       "      <td>[https://whitepaper.io/document/10/binance-whi...</td>\n",
       "    </tr>\n",
       "    <tr>\n",
       "      <th>6</th>\n",
       "      <td>Ethereum</td>\n",
       "      <td>[https://ethereum.org/en/whitepaper/]</td>\n",
       "    </tr>\n",
       "    <tr>\n",
       "      <th>7</th>\n",
       "      <td>Axelar</td>\n",
       "      <td>[https://axelar.network/wp-content/uploads/202...</td>\n",
       "    </tr>\n",
       "    <tr>\n",
       "      <th>8</th>\n",
       "      <td>VeChain</td>\n",
       "      <td>[https://www.vechain.org/whitepaper/#bit_65sv8...</td>\n",
       "    </tr>\n",
       "    <tr>\n",
       "      <th>9</th>\n",
       "      <td>Kava</td>\n",
       "      <td>[https://whitepaper.io/coin/kava-io, https://d...</td>\n",
       "    </tr>\n",
       "  </tbody>\n",
       "</table>\n",
       "</div>"
      ],
      "text/plain": [
       "                        Name  \\\n",
       "0              HydraDX (HDX)   \n",
       "1        Green Satoshi Token   \n",
       "2            Brokoli Network   \n",
       "3                      Huobi   \n",
       "4  Polkadot (cryptocurrency)   \n",
       "5             Changpeng Zhao   \n",
       "6                   Ethereum   \n",
       "7                     Axelar   \n",
       "8                    VeChain   \n",
       "9                       Kava   \n",
       "\n",
       "                                               Links  \n",
       "0                         [https://docs.hydradx.io/]  \n",
       "1  [https://whitepaper.stepn.com/, https://whitep...  \n",
       "2               [https://whitepaper.brokoli.network]  \n",
       "3  [https://www.htokens.finance/static/pdf/whitep...  \n",
       "4       [https://polkadot.network/PolkaDotPaper.pdf]  \n",
       "5  [https://whitepaper.io/document/10/binance-whi...  \n",
       "6              [https://ethereum.org/en/whitepaper/]  \n",
       "7  [https://axelar.network/wp-content/uploads/202...  \n",
       "8  [https://www.vechain.org/whitepaper/#bit_65sv8...  \n",
       "9  [https://whitepaper.io/coin/kava-io, https://d...  "
      ]
     },
     "execution_count": 15,
     "metadata": {},
     "output_type": "execute_result"
    }
   ],
   "source": [
    "df.head(10)"
   ]
  },
  {
   "cell_type": "code",
   "execution_count": 158,
   "metadata": {},
   "outputs": [],
   "source": [
    "driver.switch_to.window(driver.window_handles[tab_number])"
   ]
  },
  {
   "cell_type": "code",
   "execution_count": 151,
   "metadata": {},
   "outputs": [
    {
     "ename": "NoSuchWindowException",
     "evalue": "Message: no such window: target window already closed\nfrom unknown error: web view not found\n  (Session info: chrome=109.0.5414.120)\nStacktrace:\nBacktrace:\n\t(No symbol) [0x00996643]\n\t(No symbol) [0x0092BE21]\n\t(No symbol) [0x0082DA9D]\n\t(No symbol) [0x0080EF6A]\n\t(No symbol) [0x00883AAB]\n\t(No symbol) [0x008961B6]\n\t(No symbol) [0x0087FB76]\n\t(No symbol) [0x008549C1]\n\t(No symbol) [0x00855E5D]\n\tGetHandleVerifier [0x00C0A142+2497106]\n\tGetHandleVerifier [0x00C385D3+2686691]\n\tGetHandleVerifier [0x00C3BB9C+2700460]\n\tGetHandleVerifier [0x00A43B10+635936]\n\t(No symbol) [0x00934A1F]\n\t(No symbol) [0x0093A418]\n\t(No symbol) [0x0093A505]\n\t(No symbol) [0x0094508B]\n\tBaseThreadInitThunk [0x751100F9+25]\n\tRtlGetAppContainerNamedObjectPath [0x77297BBE+286]\n\tRtlGetAppContainerNamedObjectPath [0x77297B8E+238]\n",
     "output_type": "error",
     "traceback": [
      "\u001b[1;31m---------------------------------------------------------------------------\u001b[0m",
      "\u001b[1;31mNoSuchWindowException\u001b[0m                     Traceback (most recent call last)",
      "Cell \u001b[1;32mIn[151], line 1\u001b[0m\n\u001b[1;32m----> 1\u001b[0m driver\u001b[39m.\u001b[39;49mexecute_script(\u001b[39m\"\u001b[39;49m\u001b[39mwindow.open(\u001b[39;49m\u001b[39m'\u001b[39;49m\u001b[39m'\u001b[39;49m\u001b[39m);\u001b[39;49m\u001b[39m\"\u001b[39;49m)\n\u001b[0;32m      3\u001b[0m \u001b[39m# Switch to the new window and open new URL\u001b[39;00m\n\u001b[0;32m      4\u001b[0m driver\u001b[39m.\u001b[39mswitch_to\u001b[39m.\u001b[39mwindow(driver\u001b[39m.\u001b[39mwindow_handles[\u001b[39m-\u001b[39m\u001b[39m1\u001b[39m])\n",
      "File \u001b[1;32mc:\\Users\\kianv\\Desktop\\Python\\crypto\\.venv\\Lib\\site-packages\\selenium\\webdriver\\remote\\webdriver.py:506\u001b[0m, in \u001b[0;36mWebDriver.execute_script\u001b[1;34m(self, script, *args)\u001b[0m\n\u001b[0;32m    503\u001b[0m converted_args \u001b[39m=\u001b[39m \u001b[39mlist\u001b[39m(args)\n\u001b[0;32m    504\u001b[0m command \u001b[39m=\u001b[39m Command\u001b[39m.\u001b[39mW3C_EXECUTE_SCRIPT\n\u001b[1;32m--> 506\u001b[0m \u001b[39mreturn\u001b[39;00m \u001b[39mself\u001b[39;49m\u001b[39m.\u001b[39;49mexecute(command, {\u001b[39m\"\u001b[39;49m\u001b[39mscript\u001b[39;49m\u001b[39m\"\u001b[39;49m: script, \u001b[39m\"\u001b[39;49m\u001b[39margs\u001b[39;49m\u001b[39m\"\u001b[39;49m: converted_args})[\u001b[39m\"\u001b[39m\u001b[39mvalue\u001b[39m\u001b[39m\"\u001b[39m]\n",
      "File \u001b[1;32mc:\\Users\\kianv\\Desktop\\Python\\crypto\\.venv\\Lib\\site-packages\\selenium\\webdriver\\remote\\webdriver.py:444\u001b[0m, in \u001b[0;36mWebDriver.execute\u001b[1;34m(self, driver_command, params)\u001b[0m\n\u001b[0;32m    442\u001b[0m response \u001b[39m=\u001b[39m \u001b[39mself\u001b[39m\u001b[39m.\u001b[39mcommand_executor\u001b[39m.\u001b[39mexecute(driver_command, params)\n\u001b[0;32m    443\u001b[0m \u001b[39mif\u001b[39;00m response:\n\u001b[1;32m--> 444\u001b[0m     \u001b[39mself\u001b[39;49m\u001b[39m.\u001b[39;49merror_handler\u001b[39m.\u001b[39;49mcheck_response(response)\n\u001b[0;32m    445\u001b[0m     response[\u001b[39m\"\u001b[39m\u001b[39mvalue\u001b[39m\u001b[39m\"\u001b[39m] \u001b[39m=\u001b[39m \u001b[39mself\u001b[39m\u001b[39m.\u001b[39m_unwrap_value(response\u001b[39m.\u001b[39mget(\u001b[39m\"\u001b[39m\u001b[39mvalue\u001b[39m\u001b[39m\"\u001b[39m, \u001b[39mNone\u001b[39;00m))\n\u001b[0;32m    446\u001b[0m     \u001b[39mreturn\u001b[39;00m response\n",
      "File \u001b[1;32mc:\\Users\\kianv\\Desktop\\Python\\crypto\\.venv\\Lib\\site-packages\\selenium\\webdriver\\remote\\errorhandler.py:249\u001b[0m, in \u001b[0;36mErrorHandler.check_response\u001b[1;34m(self, response)\u001b[0m\n\u001b[0;32m    247\u001b[0m         alert_text \u001b[39m=\u001b[39m value[\u001b[39m\"\u001b[39m\u001b[39malert\u001b[39m\u001b[39m\"\u001b[39m]\u001b[39m.\u001b[39mget(\u001b[39m\"\u001b[39m\u001b[39mtext\u001b[39m\u001b[39m\"\u001b[39m)\n\u001b[0;32m    248\u001b[0m     \u001b[39mraise\u001b[39;00m exception_class(message, screen, stacktrace, alert_text)  \u001b[39m# type: ignore[call-arg]  # mypy is not smart enough here\u001b[39;00m\n\u001b[1;32m--> 249\u001b[0m \u001b[39mraise\u001b[39;00m exception_class(message, screen, stacktrace)\n",
      "\u001b[1;31mNoSuchWindowException\u001b[0m: Message: no such window: target window already closed\nfrom unknown error: web view not found\n  (Session info: chrome=109.0.5414.120)\nStacktrace:\nBacktrace:\n\t(No symbol) [0x00996643]\n\t(No symbol) [0x0092BE21]\n\t(No symbol) [0x0082DA9D]\n\t(No symbol) [0x0080EF6A]\n\t(No symbol) [0x00883AAB]\n\t(No symbol) [0x008961B6]\n\t(No symbol) [0x0087FB76]\n\t(No symbol) [0x008549C1]\n\t(No symbol) [0x00855E5D]\n\tGetHandleVerifier [0x00C0A142+2497106]\n\tGetHandleVerifier [0x00C385D3+2686691]\n\tGetHandleVerifier [0x00C3BB9C+2700460]\n\tGetHandleVerifier [0x00A43B10+635936]\n\t(No symbol) [0x00934A1F]\n\t(No symbol) [0x0093A418]\n\t(No symbol) [0x0093A505]\n\t(No symbol) [0x0094508B]\n\tBaseThreadInitThunk [0x751100F9+25]\n\tRtlGetAppContainerNamedObjectPath [0x77297BBE+286]\n\tRtlGetAppContainerNamedObjectPath [0x77297B8E+238]\n"
     ]
    }
   ],
   "source": [
    "driver.execute_script(\"window.open('');\")\n",
    "  \n",
    "# Switch to the new window and open new URL\n",
    "driver.switch_to.window(driver.window_handles[1])\n",
    "driver.get(\"https://google.com\")"
   ]
  },
  {
   "cell_type": "code",
   "execution_count": 123,
   "metadata": {},
   "outputs": [],
   "source": [
    "import os"
   ]
  },
  {
   "cell_type": "code",
   "execution_count": 138,
   "metadata": {},
   "outputs": [
    {
     "data": {
      "text/plain": [
       "0                  HydraDX (HDX)\n",
       "1            Green Satoshi Token\n",
       "2                Brokoli Network\n",
       "3                          Huobi\n",
       "4      Polkadot (cryptocurrency)\n",
       "                 ...            \n",
       "70    Chainlink (cryptocurrency)\n",
       "71       Ripple (cryptocurrency)\n",
       "72                proof-of-stake\n",
       "73               KuCoin Exchange\n",
       "74           Partisia Blockchain\n",
       "Name: Name, Length: 75, dtype: object"
      ]
     },
     "execution_count": 138,
     "metadata": {},
     "output_type": "execute_result"
    }
   ],
   "source": [
    "df['Name']"
   ]
  },
  {
   "cell_type": "code",
   "execution_count": 136,
   "metadata": {},
   "outputs": [
    {
     "ename": "NameError",
     "evalue": "name 'newest' is not defined",
     "output_type": "error",
     "traceback": [
      "\u001b[1;31m---------------------------------------------------------------------------\u001b[0m",
      "\u001b[1;31mNameError\u001b[0m                                 Traceback (most recent call last)",
      "Cell \u001b[1;32mIn[136], line 11\u001b[0m\n\u001b[0;32m      9\u001b[0m latest_download_file()\n\u001b[0;32m     10\u001b[0m old_name \u001b[39m=\u001b[39m latest_download_file()\n\u001b[1;32m---> 11\u001b[0m new_name \u001b[39m=\u001b[39m \u001b[39mr\u001b[39m\u001b[39m'\u001b[39m\u001b[39mC:\u001b[39m\u001b[39m\\\u001b[39m\u001b[39mUsers\u001b[39m\u001b[39m\\\u001b[39m\u001b[39mkianv\u001b[39m\u001b[39m\\\u001b[39m\u001b[39mDesktop\u001b[39m\u001b[39m\\\u001b[39m\u001b[39mPython\u001b[39m\u001b[39m\\\u001b[39m\u001b[39mcrypto\u001b[39m\u001b[39m\\\u001b[39m\u001b[39mPDFS\u001b[39m\u001b[39m'\u001b[39m\u001b[39m+\u001b[39m\u001b[39mstr\u001b[39m(newest) \u001b[39m+\u001b[39m \u001b[39m'\u001b[39m\u001b[39m\\\\\u001b[39;00m\u001b[39m'\u001b[39m\n\u001b[0;32m     13\u001b[0m \u001b[39m#os.rename(old_name, new_name)\u001b[39;00m\n",
      "\u001b[1;31mNameError\u001b[0m: name 'newest' is not defined"
     ]
    }
   ],
   "source": [
    "def latest_download_file():\n",
    "      path = r'C:\\Users\\kianv\\Desktop\\Python\\crypto\\PDFS'\n",
    "      os.chdir(path)\n",
    "      files = sorted(os.listdir(os.getcwd()), key=os.path.getmtime)\n",
    "      newest = files[-1]\n",
    "\n",
    "      return r'C:\\Users\\kianv\\Desktop\\Python\\crypto\\PDFS\\ '+str(newest) + '\\\\'\n",
    "\n",
    "latest_download_file()\n",
    "old_name = latest_download_file()\n",
    "new_name = r'C:\\Users\\kianv\\Desktop\\Python\\crypto\\PDFS\\ '+str(df['Name'][k]) + '\\\\'\n",
    "\n",
    "#os.rename(old_name, new_name)"
   ]
  },
  {
   "cell_type": "code",
   "execution_count": 117,
   "metadata": {},
   "outputs": [
    {
     "data": {
      "text/plain": [
       "36"
      ]
     },
     "execution_count": 117,
     "metadata": {},
     "output_type": "execute_result"
    }
   ],
   "source": [
    "import os, os.path\n",
    "\n",
    "# simple version for working with CWD\n",
    "directory_length = len(list(os.listdir('./PDFS/')))\n"
   ]
  },
  {
   "cell_type": "code",
   "execution_count": 100,
   "metadata": {},
   "outputs": [
    {
     "ename": "AttributeError",
     "evalue": "'WebDriver' object has no attribute 'SwitchTo'",
     "output_type": "error",
     "traceback": [
      "\u001b[1;31m---------------------------------------------------------------------------\u001b[0m",
      "\u001b[1;31mAttributeError\u001b[0m                            Traceback (most recent call last)",
      "Cell \u001b[1;32mIn[100], line 1\u001b[0m\n\u001b[1;32m----> 1\u001b[0m driver\u001b[39m.\u001b[39;49mSwitchTo()\u001b[39m.\u001b[39mNewWindow(WindowType\u001b[39m.\u001b[39mTab)\n",
      "\u001b[1;31mAttributeError\u001b[0m: 'WebDriver' object has no attribute 'SwitchTo'"
     ]
    }
   ],
   "source": [
    "driver.SwitchTo().NewWindow(WindowType.Tab)"
   ]
  },
  {
   "cell_type": "code",
   "execution_count": 107,
   "metadata": {},
   "outputs": [],
   "source": [
    "driver.find_element(By.TAG_NAME,'body').send_keys(Keys.COMMAND + 't') "
   ]
  },
  {
   "cell_type": "code",
   "execution_count": null,
   "metadata": {},
   "outputs": [],
   "source": []
  }
 ],
 "metadata": {
  "kernelspec": {
   "display_name": ".venv",
   "language": "python",
   "name": "python3"
  },
  "language_info": {
   "codemirror_mode": {
    "name": "ipython",
    "version": 3
   },
   "file_extension": ".py",
   "mimetype": "text/x-python",
   "name": "python",
   "nbconvert_exporter": "python",
   "pygments_lexer": "ipython3",
   "version": "3.11.0 (main, Oct 24 2022, 18:26:48) [MSC v.1933 64 bit (AMD64)]"
  },
  "orig_nbformat": 4,
  "vscode": {
   "interpreter": {
    "hash": "99c37587a13f0cffeb1bd05386540198e835a0504a64595d070c372b706cf6e1"
   }
  }
 },
 "nbformat": 4,
 "nbformat_minor": 2
}
