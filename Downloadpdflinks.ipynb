{
 "cells": [
  {
   "cell_type": "code",
   "execution_count": 8,
   "metadata": {},
   "outputs": [],
   "source": [
    "import pandas as pd\n",
    "from ast import literal_eval\n",
    "import os\n",
    "import time\n",
    "def latest_download_file():\n",
    "      path = r'C:\\Users\\kianv\\Desktop\\Python\\crypto\\PDFS'\n",
    "      os.chdir(path)\n",
    "      files = sorted(os.listdir(os.getcwd()), key=os.path.getmtime)\n",
    "      newest = files[-1]\n",
    "\n",
    "      return r'C:\\Users\\kianv\\Desktop\\Python\\crypto\\PDFS\\\\'+str(newest)\n"
   ]
  },
  {
   "attachments": {},
   "cell_type": "markdown",
   "metadata": {},
   "source": [
    "Read in our data with links"
   ]
  },
  {
   "cell_type": "code",
   "execution_count": 2,
   "metadata": {},
   "outputs": [],
   "source": [
    "df = pd.read_csv('./data.csv',converters={\"Links\": literal_eval})\n",
    "del df['Unnamed: 0']"
   ]
  },
  {
   "attachments": {},
   "cell_type": "markdown",
   "metadata": {},
   "source": [
    "Download PDF from a given link"
   ]
  },
  {
   "cell_type": "code",
   "execution_count": 27,
   "metadata": {},
   "outputs": [],
   "source": [
    "from selenium import webdriver\n",
    "from selenium.webdriver.support.ui import Select\n",
    "from selenium.webdriver.common.by import By\n",
    "from selenium.webdriver.common.keys import Keys\n",
    "from selenium import webdriver\n",
    "from webdriver_manager.chrome import ChromeDriverManager\n",
    "profile = {\"plugins.plugins_list\": [{\"enabled\": False,\n",
    "                                         \"name\": \"Chrome PDF Viewer\"}],\n",
    "               \"download.default_directory\": \"C:\\\\Users\\\\kianv\\\\Desktop\\\\Python\\\\crypto\\\\PDFS\",\n",
    "               \"download.extensions_to_open\": \"\",\n",
    "               \"plugins.always_open_pdf_externally\": True}\n",
    "options = webdriver.ChromeOptions()\n",
    "options.add_experimental_option('prefs', profile)\n",
    "driver = webdriver.Chrome(options=options)"
   ]
  },
  {
   "cell_type": "code",
   "execution_count": 28,
   "metadata": {},
   "outputs": [
    {
     "name": "stdout",
     "output_type": "stream",
     "text": [
      "C:\\Users\\kianv\\Desktop\\Python\\crypto\\PDFS\\\\whitepaper-en.pdf\n",
      "C:\\Users\\kianv\\Desktop\\Python\\crypto\\PDFS\\\\Huobi0.pdf\n",
      "C:\\Users\\kianv\\Desktop\\Python\\crypto\\PDFS\\\\whitepaper-en.pdf\n",
      "C:\\Users\\kianv\\Desktop\\Python\\crypto\\PDFS\\\\Huobi1.pdf\n",
      "C:\\Users\\kianv\\Desktop\\Python\\crypto\\PDFS\\\\PolkaDotPaper.pdf\n",
      "C:\\Users\\kianv\\Desktop\\Python\\crypto\\PDFS\\\\Polkadot (cryptocurrency)0.pdf\n",
      "C:\\Users\\kianv\\Desktop\\Python\\crypto\\PDFS\\\\axelar_whitepaper.pdf\n",
      "C:\\Users\\kianv\\Desktop\\Python\\crypto\\PDFS\\\\Axelar0.pdf\n"
     ]
    },
    {
     "ename": "PermissionError",
     "evalue": "[WinError 32] The process cannot access the file because it is being used by another process: 'C:\\\\Users\\\\kianv\\\\Desktop\\\\Python\\\\crypto\\\\PDFS\\\\\\\\Morpheus.Network_Black_Platform.pdf.crdownload' -> 'C:\\\\Users\\\\kianv\\\\Desktop\\\\Python\\\\crypto\\\\PDFS\\\\\\\\Morpheus.Network0.pdf'",
     "output_type": "error",
     "traceback": [
      "\u001b[1;31m---------------------------------------------------------------------------\u001b[0m",
      "\u001b[1;31mPermissionError\u001b[0m                           Traceback (most recent call last)",
      "Cell \u001b[1;32mIn[28], line 22\u001b[0m\n\u001b[0;32m     20\u001b[0m old_name \u001b[39m=\u001b[39m latest_download_file()\n\u001b[0;32m     21\u001b[0m new_name \u001b[39m=\u001b[39m \u001b[39mr\u001b[39m\u001b[39m'\u001b[39m\u001b[39mC:\u001b[39m\u001b[39m\\\u001b[39m\u001b[39mUsers\u001b[39m\u001b[39m\\\u001b[39m\u001b[39mkianv\u001b[39m\u001b[39m\\\u001b[39m\u001b[39mDesktop\u001b[39m\u001b[39m\\\u001b[39m\u001b[39mPython\u001b[39m\u001b[39m\\\u001b[39m\u001b[39mcrypto\u001b[39m\u001b[39m\\\u001b[39m\u001b[39mPDFS\u001b[39m\u001b[39m\\\\\u001b[39;00m\u001b[39m'\u001b[39m\u001b[39m+\u001b[39m\u001b[39mstr\u001b[39m(df[\u001b[39m'\u001b[39m\u001b[39mName\u001b[39m\u001b[39m'\u001b[39m][namecount]) \u001b[39m+\u001b[39m\u001b[39mstr\u001b[39m(k) \u001b[39m+\u001b[39m \u001b[39m'\u001b[39m\u001b[39m.pdf\u001b[39m\u001b[39m'\u001b[39m\n\u001b[1;32m---> 22\u001b[0m os\u001b[39m.\u001b[39mrename(old_name,new_name)\n\u001b[0;32m     23\u001b[0m old_directorylen \u001b[39m=\u001b[39m new_directorylen\n\u001b[0;32m     24\u001b[0m \u001b[39mprint\u001b[39m(old_name)\n",
      "\u001b[1;31mPermissionError\u001b[0m: [WinError 32] The process cannot access the file because it is being used by another process: 'C:\\\\Users\\\\kianv\\\\Desktop\\\\Python\\\\crypto\\\\PDFS\\\\\\\\Morpheus.Network_Black_Platform.pdf.crdownload' -> 'C:\\\\Users\\\\kianv\\\\Desktop\\\\Python\\\\crypto\\\\PDFS\\\\\\\\Morpheus.Network0.pdf'"
     ]
    }
   ],
   "source": [
    "j = 0\n",
    "old_directorylen = len(list(os.listdir(r'C:\\Users\\kianv\\Desktop\\Python\\crypto\\PDFS')))\n",
    "tab_number = 0\n",
    "namecount = -1\n",
    "for elem in df['Links'][0:25]:\n",
    "    namecount+=1\n",
    "    for k in range(0,len(elem)):\n",
    "        driver.get(elem[k])\n",
    "        time.sleep(1)\n",
    "        new_directorylen = len(list(os.listdir(r'C:\\Users\\kianv\\Desktop\\Python\\crypto\\PDFS')))\n",
    "        \n",
    "        if new_directorylen == old_directorylen:\n",
    "            driver.execute_script(\"window.open('');\")\n",
    "            # Switch to the new window and open new URL\n",
    "            tab_number+=1\n",
    "            driver.switch_to.window(driver.window_handles[tab_number])\n",
    "            \n",
    "        else:\n",
    "            #latest_download_file()\n",
    "            time.sleep(1)\n",
    "            old_name = latest_download_file()\n",
    "            new_name = r'C:\\Users\\kianv\\Desktop\\Python\\crypto\\PDFS\\\\'+str(df['Name'][namecount]) +str(k) + '.pdf'\n",
    "            os.rename(old_name,new_name)\n",
    "            old_directorylen = new_directorylen\n",
    "            print(old_name)\n",
    "            print(new_name)"
   ]
  },
  {
   "cell_type": "code",
   "execution_count": 15,
   "metadata": {},
   "outputs": [
    {
     "data": {
      "text/html": [
       "<div>\n",
       "<style scoped>\n",
       "    .dataframe tbody tr th:only-of-type {\n",
       "        vertical-align: middle;\n",
       "    }\n",
       "\n",
       "    .dataframe tbody tr th {\n",
       "        vertical-align: top;\n",
       "    }\n",
       "\n",
       "    .dataframe thead th {\n",
       "        text-align: right;\n",
       "    }\n",
       "</style>\n",
       "<table border=\"1\" class=\"dataframe\">\n",
       "  <thead>\n",
       "    <tr style=\"text-align: right;\">\n",
       "      <th></th>\n",
       "      <th>Name</th>\n",
       "      <th>Links</th>\n",
       "    </tr>\n",
       "  </thead>\n",
       "  <tbody>\n",
       "    <tr>\n",
       "      <th>0</th>\n",
       "      <td>HydraDX (HDX)</td>\n",
       "      <td>[https://docs.hydradx.io/]</td>\n",
       "    </tr>\n",
       "    <tr>\n",
       "      <th>1</th>\n",
       "      <td>Green Satoshi Token</td>\n",
       "      <td>[https://whitepaper.stepn.com/, https://whitep...</td>\n",
       "    </tr>\n",
       "    <tr>\n",
       "      <th>2</th>\n",
       "      <td>Brokoli Network</td>\n",
       "      <td>[https://whitepaper.brokoli.network]</td>\n",
       "    </tr>\n",
       "    <tr>\n",
       "      <th>3</th>\n",
       "      <td>Huobi</td>\n",
       "      <td>[https://www.htokens.finance/static/pdf/whitep...</td>\n",
       "    </tr>\n",
       "    <tr>\n",
       "      <th>4</th>\n",
       "      <td>Polkadot (cryptocurrency)</td>\n",
       "      <td>[https://polkadot.network/PolkaDotPaper.pdf]</td>\n",
       "    </tr>\n",
       "    <tr>\n",
       "      <th>5</th>\n",
       "      <td>Changpeng Zhao</td>\n",
       "      <td>[https://whitepaper.io/document/10/binance-whi...</td>\n",
       "    </tr>\n",
       "    <tr>\n",
       "      <th>6</th>\n",
       "      <td>Ethereum</td>\n",
       "      <td>[https://ethereum.org/en/whitepaper/]</td>\n",
       "    </tr>\n",
       "    <tr>\n",
       "      <th>7</th>\n",
       "      <td>Axelar</td>\n",
       "      <td>[https://axelar.network/wp-content/uploads/202...</td>\n",
       "    </tr>\n",
       "    <tr>\n",
       "      <th>8</th>\n",
       "      <td>VeChain</td>\n",
       "      <td>[https://www.vechain.org/whitepaper/#bit_65sv8...</td>\n",
       "    </tr>\n",
       "    <tr>\n",
       "      <th>9</th>\n",
       "      <td>Kava</td>\n",
       "      <td>[https://whitepaper.io/coin/kava-io, https://d...</td>\n",
       "    </tr>\n",
       "  </tbody>\n",
       "</table>\n",
       "</div>"
      ],
      "text/plain": [
       "                        Name  \\\n",
       "0              HydraDX (HDX)   \n",
       "1        Green Satoshi Token   \n",
       "2            Brokoli Network   \n",
       "3                      Huobi   \n",
       "4  Polkadot (cryptocurrency)   \n",
       "5             Changpeng Zhao   \n",
       "6                   Ethereum   \n",
       "7                     Axelar   \n",
       "8                    VeChain   \n",
       "9                       Kava   \n",
       "\n",
       "                                               Links  \n",
       "0                         [https://docs.hydradx.io/]  \n",
       "1  [https://whitepaper.stepn.com/, https://whitep...  \n",
       "2               [https://whitepaper.brokoli.network]  \n",
       "3  [https://www.htokens.finance/static/pdf/whitep...  \n",
       "4       [https://polkadot.network/PolkaDotPaper.pdf]  \n",
       "5  [https://whitepaper.io/document/10/binance-whi...  \n",
       "6              [https://ethereum.org/en/whitepaper/]  \n",
       "7  [https://axelar.network/wp-content/uploads/202...  \n",
       "8  [https://www.vechain.org/whitepaper/#bit_65sv8...  \n",
       "9  [https://whitepaper.io/coin/kava-io, https://d...  "
      ]
     },
     "execution_count": 15,
     "metadata": {},
     "output_type": "execute_result"
    }
   ],
   "source": [
    "df.head(10)"
   ]
  },
  {
   "cell_type": "code",
   "execution_count": 158,
   "metadata": {},
   "outputs": [],
   "source": [
    "driver.switch_to.window(driver.window_handles[tab_number])"
   ]
  },
  {
   "cell_type": "code",
   "execution_count": 151,
   "metadata": {},
   "outputs": [
    {
     "ename": "NoSuchWindowException",
     "evalue": "Message: no such window: target window already closed\nfrom unknown error: web view not found\n  (Session info: chrome=109.0.5414.120)\nStacktrace:\nBacktrace:\n\t(No symbol) [0x00996643]\n\t(No symbol) [0x0092BE21]\n\t(No symbol) [0x0082DA9D]\n\t(No symbol) [0x0080EF6A]\n\t(No symbol) [0x00883AAB]\n\t(No symbol) [0x008961B6]\n\t(No symbol) [0x0087FB76]\n\t(No symbol) [0x008549C1]\n\t(No symbol) [0x00855E5D]\n\tGetHandleVerifier [0x00C0A142+2497106]\n\tGetHandleVerifier [0x00C385D3+2686691]\n\tGetHandleVerifier [0x00C3BB9C+2700460]\n\tGetHandleVerifier [0x00A43B10+635936]\n\t(No symbol) [0x00934A1F]\n\t(No symbol) [0x0093A418]\n\t(No symbol) [0x0093A505]\n\t(No symbol) [0x0094508B]\n\tBaseThreadInitThunk [0x751100F9+25]\n\tRtlGetAppContainerNamedObjectPath [0x77297BBE+286]\n\tRtlGetAppContainerNamedObjectPath [0x77297B8E+238]\n",
     "output_type": "error",
     "traceback": [
      "\u001b[1;31m---------------------------------------------------------------------------\u001b[0m",
      "\u001b[1;31mNoSuchWindowException\u001b[0m                     Traceback (most recent call last)",
      "Cell \u001b[1;32mIn[151], line 1\u001b[0m\n\u001b[1;32m----> 1\u001b[0m driver\u001b[39m.\u001b[39;49mexecute_script(\u001b[39m\"\u001b[39;49m\u001b[39mwindow.open(\u001b[39;49m\u001b[39m'\u001b[39;49m\u001b[39m'\u001b[39;49m\u001b[39m);\u001b[39;49m\u001b[39m\"\u001b[39;49m)\n\u001b[0;32m      3\u001b[0m \u001b[39m# Switch to the new window and open new URL\u001b[39;00m\n\u001b[0;32m      4\u001b[0m driver\u001b[39m.\u001b[39mswitch_to\u001b[39m.\u001b[39mwindow(driver\u001b[39m.\u001b[39mwindow_handles[\u001b[39m-\u001b[39m\u001b[39m1\u001b[39m])\n",
      "File \u001b[1;32mc:\\Users\\kianv\\Desktop\\Python\\crypto\\.venv\\Lib\\site-packages\\selenium\\webdriver\\remote\\webdriver.py:506\u001b[0m, in \u001b[0;36mWebDriver.execute_script\u001b[1;34m(self, script, *args)\u001b[0m\n\u001b[0;32m    503\u001b[0m converted_args \u001b[39m=\u001b[39m \u001b[39mlist\u001b[39m(args)\n\u001b[0;32m    504\u001b[0m command \u001b[39m=\u001b[39m Command\u001b[39m.\u001b[39mW3C_EXECUTE_SCRIPT\n\u001b[1;32m--> 506\u001b[0m \u001b[39mreturn\u001b[39;00m \u001b[39mself\u001b[39;49m\u001b[39m.\u001b[39;49mexecute(command, {\u001b[39m\"\u001b[39;49m\u001b[39mscript\u001b[39;49m\u001b[39m\"\u001b[39;49m: script, \u001b[39m\"\u001b[39;49m\u001b[39margs\u001b[39;49m\u001b[39m\"\u001b[39;49m: converted_args})[\u001b[39m\"\u001b[39m\u001b[39mvalue\u001b[39m\u001b[39m\"\u001b[39m]\n",
      "File \u001b[1;32mc:\\Users\\kianv\\Desktop\\Python\\crypto\\.venv\\Lib\\site-packages\\selenium\\webdriver\\remote\\webdriver.py:444\u001b[0m, in \u001b[0;36mWebDriver.execute\u001b[1;34m(self, driver_command, params)\u001b[0m\n\u001b[0;32m    442\u001b[0m response \u001b[39m=\u001b[39m \u001b[39mself\u001b[39m\u001b[39m.\u001b[39mcommand_executor\u001b[39m.\u001b[39mexecute(driver_command, params)\n\u001b[0;32m    443\u001b[0m \u001b[39mif\u001b[39;00m response:\n\u001b[1;32m--> 444\u001b[0m     \u001b[39mself\u001b[39;49m\u001b[39m.\u001b[39;49merror_handler\u001b[39m.\u001b[39;49mcheck_response(response)\n\u001b[0;32m    445\u001b[0m     response[\u001b[39m\"\u001b[39m\u001b[39mvalue\u001b[39m\u001b[39m\"\u001b[39m] \u001b[39m=\u001b[39m \u001b[39mself\u001b[39m\u001b[39m.\u001b[39m_unwrap_value(response\u001b[39m.\u001b[39mget(\u001b[39m\"\u001b[39m\u001b[39mvalue\u001b[39m\u001b[39m\"\u001b[39m, \u001b[39mNone\u001b[39;00m))\n\u001b[0;32m    446\u001b[0m     \u001b[39mreturn\u001b[39;00m response\n",
      "File \u001b[1;32mc:\\Users\\kianv\\Desktop\\Python\\crypto\\.venv\\Lib\\site-packages\\selenium\\webdriver\\remote\\errorhandler.py:249\u001b[0m, in \u001b[0;36mErrorHandler.check_response\u001b[1;34m(self, response)\u001b[0m\n\u001b[0;32m    247\u001b[0m         alert_text \u001b[39m=\u001b[39m value[\u001b[39m\"\u001b[39m\u001b[39malert\u001b[39m\u001b[39m\"\u001b[39m]\u001b[39m.\u001b[39mget(\u001b[39m\"\u001b[39m\u001b[39mtext\u001b[39m\u001b[39m\"\u001b[39m)\n\u001b[0;32m    248\u001b[0m     \u001b[39mraise\u001b[39;00m exception_class(message, screen, stacktrace, alert_text)  \u001b[39m# type: ignore[call-arg]  # mypy is not smart enough here\u001b[39;00m\n\u001b[1;32m--> 249\u001b[0m \u001b[39mraise\u001b[39;00m exception_class(message, screen, stacktrace)\n",
      "\u001b[1;31mNoSuchWindowException\u001b[0m: Message: no such window: target window already closed\nfrom unknown error: web view not found\n  (Session info: chrome=109.0.5414.120)\nStacktrace:\nBacktrace:\n\t(No symbol) [0x00996643]\n\t(No symbol) [0x0092BE21]\n\t(No symbol) [0x0082DA9D]\n\t(No symbol) [0x0080EF6A]\n\t(No symbol) [0x00883AAB]\n\t(No symbol) [0x008961B6]\n\t(No symbol) [0x0087FB76]\n\t(No symbol) [0x008549C1]\n\t(No symbol) [0x00855E5D]\n\tGetHandleVerifier [0x00C0A142+2497106]\n\tGetHandleVerifier [0x00C385D3+2686691]\n\tGetHandleVerifier [0x00C3BB9C+2700460]\n\tGetHandleVerifier [0x00A43B10+635936]\n\t(No symbol) [0x00934A1F]\n\t(No symbol) [0x0093A418]\n\t(No symbol) [0x0093A505]\n\t(No symbol) [0x0094508B]\n\tBaseThreadInitThunk [0x751100F9+25]\n\tRtlGetAppContainerNamedObjectPath [0x77297BBE+286]\n\tRtlGetAppContainerNamedObjectPath [0x77297B8E+238]\n"
     ]
    }
   ],
   "source": [
    "driver.execute_script(\"window.open('');\")\n",
    "  \n",
    "# Switch to the new window and open new URL\n",
    "driver.switch_to.window(driver.window_handles[1])\n",
    "driver.get(\"https://google.com\")"
   ]
  },
  {
   "cell_type": "code",
   "execution_count": 123,
   "metadata": {},
   "outputs": [],
   "source": [
    "import os"
   ]
  },
  {
   "cell_type": "code",
   "execution_count": 138,
   "metadata": {},
   "outputs": [
    {
     "data": {
      "text/plain": [
       "0                  HydraDX (HDX)\n",
       "1            Green Satoshi Token\n",
       "2                Brokoli Network\n",
       "3                          Huobi\n",
       "4      Polkadot (cryptocurrency)\n",
       "                 ...            \n",
       "70    Chainlink (cryptocurrency)\n",
       "71       Ripple (cryptocurrency)\n",
       "72                proof-of-stake\n",
       "73               KuCoin Exchange\n",
       "74           Partisia Blockchain\n",
       "Name: Name, Length: 75, dtype: object"
      ]
     },
     "execution_count": 138,
     "metadata": {},
     "output_type": "execute_result"
    }
   ],
   "source": [
    "df['Name']"
   ]
  },
  {
   "cell_type": "code",
   "execution_count": 136,
   "metadata": {},
   "outputs": [
    {
     "ename": "NameError",
     "evalue": "name 'newest' is not defined",
     "output_type": "error",
     "traceback": [
      "\u001b[1;31m---------------------------------------------------------------------------\u001b[0m",
      "\u001b[1;31mNameError\u001b[0m                                 Traceback (most recent call last)",
      "Cell \u001b[1;32mIn[136], line 11\u001b[0m\n\u001b[0;32m      9\u001b[0m latest_download_file()\n\u001b[0;32m     10\u001b[0m old_name \u001b[39m=\u001b[39m latest_download_file()\n\u001b[1;32m---> 11\u001b[0m new_name \u001b[39m=\u001b[39m \u001b[39mr\u001b[39m\u001b[39m'\u001b[39m\u001b[39mC:\u001b[39m\u001b[39m\\\u001b[39m\u001b[39mUsers\u001b[39m\u001b[39m\\\u001b[39m\u001b[39mkianv\u001b[39m\u001b[39m\\\u001b[39m\u001b[39mDesktop\u001b[39m\u001b[39m\\\u001b[39m\u001b[39mPython\u001b[39m\u001b[39m\\\u001b[39m\u001b[39mcrypto\u001b[39m\u001b[39m\\\u001b[39m\u001b[39mPDFS\u001b[39m\u001b[39m'\u001b[39m\u001b[39m+\u001b[39m\u001b[39mstr\u001b[39m(newest) \u001b[39m+\u001b[39m \u001b[39m'\u001b[39m\u001b[39m\\\\\u001b[39;00m\u001b[39m'\u001b[39m\n\u001b[0;32m     13\u001b[0m \u001b[39m#os.rename(old_name, new_name)\u001b[39;00m\n",
      "\u001b[1;31mNameError\u001b[0m: name 'newest' is not defined"
     ]
    }
   ],
   "source": [
    "def latest_download_file():\n",
    "      path = r'C:\\Users\\kianv\\Desktop\\Python\\crypto\\PDFS'\n",
    "      os.chdir(path)\n",
    "      files = sorted(os.listdir(os.getcwd()), key=os.path.getmtime)\n",
    "      newest = files[-1]\n",
    "\n",
    "      return r'C:\\Users\\kianv\\Desktop\\Python\\crypto\\PDFS\\ '+str(newest) + '\\\\'\n",
    "\n",
    "latest_download_file()\n",
    "old_name = latest_download_file()\n",
    "new_name = r'C:\\Users\\kianv\\Desktop\\Python\\crypto\\PDFS\\ '+str(df['Name'][k]) + '\\\\'\n",
    "\n",
    "#os.rename(old_name, new_name)"
   ]
  },
  {
   "cell_type": "code",
   "execution_count": 117,
   "metadata": {},
   "outputs": [
    {
     "data": {
      "text/plain": [
       "36"
      ]
     },
     "execution_count": 117,
     "metadata": {},
     "output_type": "execute_result"
    }
   ],
   "source": [
    "import os, os.path\n",
    "\n",
    "# simple version for working with CWD\n",
    "directory_length = len(list(os.listdir('./PDFS/')))\n"
   ]
  },
  {
   "cell_type": "code",
   "execution_count": 100,
   "metadata": {},
   "outputs": [
    {
     "ename": "AttributeError",
     "evalue": "'WebDriver' object has no attribute 'SwitchTo'",
     "output_type": "error",
     "traceback": [
      "\u001b[1;31m---------------------------------------------------------------------------\u001b[0m",
      "\u001b[1;31mAttributeError\u001b[0m                            Traceback (most recent call last)",
      "Cell \u001b[1;32mIn[100], line 1\u001b[0m\n\u001b[1;32m----> 1\u001b[0m driver\u001b[39m.\u001b[39;49mSwitchTo()\u001b[39m.\u001b[39mNewWindow(WindowType\u001b[39m.\u001b[39mTab)\n",
      "\u001b[1;31mAttributeError\u001b[0m: 'WebDriver' object has no attribute 'SwitchTo'"
     ]
    }
   ],
   "source": [
    "driver.SwitchTo().NewWindow(WindowType.Tab)"
   ]
  },
  {
   "cell_type": "code",
   "execution_count": 107,
   "metadata": {},
   "outputs": [],
   "source": [
    "driver.find_element(By.TAG_NAME,'body').send_keys(Keys.COMMAND + 't') "
   ]
  },
  {
   "cell_type": "code",
   "execution_count": null,
   "metadata": {},
   "outputs": [],
   "source": []
  }
 ],
 "metadata": {
  "kernelspec": {
   "display_name": ".venv",
   "language": "python",
   "name": "python3"
  },
  "language_info": {
   "codemirror_mode": {
    "name": "ipython",
    "version": 3
   },
   "file_extension": ".py",
   "mimetype": "text/x-python",
   "name": "python",
   "nbconvert_exporter": "python",
   "pygments_lexer": "ipython3",
   "version": "3.11.0"
  },
  "orig_nbformat": 4,
  "vscode": {
   "interpreter": {
    "hash": "99c37587a13f0cffeb1bd05386540198e835a0504a64595d070c372b706cf6e1"
   }
  }
 },
 "nbformat": 4,
 "nbformat_minor": 2
}
